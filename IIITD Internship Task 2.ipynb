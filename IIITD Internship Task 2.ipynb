{
  "nbformat": 4,
  "nbformat_minor": 0,
  "metadata": {
    "accelerator": "GPU",
    "colab": {
      "name": "To Upload.ipynb",
      "provenance": [],
      "collapsed_sections": [],
      "toc_visible": true
    },
    "kernelspec": {
      "display_name": "Python 3",
      "name": "python3"
    },
    "language_info": {
      "name": "python"
    }
  },
  "cells": [
    {
      "cell_type": "markdown",
      "metadata": {
        "id": "lkYehtjjsftv"
      },
      "source": [
        "#**Task 2**"
      ]
    },
    {
      "cell_type": "code",
      "metadata": {
        "colab": {
          "base_uri": "https://localhost:8080/"
        },
        "id": "WOWQG06-pweE",
        "outputId": "f16379ee-b9ba-4505-9c2f-1ac4248a569e"
      },
      "source": [
        "from google.colab import drive\n",
        "drive.mount('/content/drive')"
      ],
      "execution_count": 1,
      "outputs": [
        {
          "output_type": "stream",
          "text": [
            "Mounted at /content/drive\n"
          ],
          "name": "stdout"
        }
      ]
    },
    {
      "cell_type": "markdown",
      "metadata": {
        "id": "DE6oKerpRPG1"
      },
      "source": [
        "### Importing Libraries"
      ]
    },
    {
      "cell_type": "code",
      "metadata": {
        "colab": {
          "base_uri": "https://localhost:8080/"
        },
        "id": "PrHhOubMgvw7",
        "outputId": "ed963362-a501-474d-da59-d9e01f8525d7"
      },
      "source": [
        "!pip install python-mnist"
      ],
      "execution_count": 2,
      "outputs": [
        {
          "output_type": "stream",
          "text": [
            "Collecting python-mnist\n",
            "  Downloading https://files.pythonhosted.org/packages/64/f0/6086b84427c3bf156ec0b3c2f9dfc1d770b35f942b9ed8a64f5229776a80/python_mnist-0.7-py2.py3-none-any.whl\n",
            "Installing collected packages: python-mnist\n",
            "Successfully installed python-mnist-0.7\n"
          ],
          "name": "stdout"
        }
      ]
    },
    {
      "cell_type": "code",
      "metadata": {
        "id": "QcxtUmmop2tH"
      },
      "source": [
        "from keras.preprocessing.image import ImageDataGenerator\n",
        "from keras.models import Sequential\n",
        "from keras.layers import Dense,Input,Flatten,Dropout,GlobalAveragePooling2D,BatchNormalization,Conv2D,MaxPooling2D, ReLU, AveragePooling2D, Activation\n",
        "from keras.models import Model, clone_model\n",
        "from keras.utils import to_categorical\n",
        "from keras.callbacks import ReduceLROnPlateau,EarlyStopping,ModelCheckpoint\n",
        "import keras\n",
        "from keras.optimizers import Adam\n",
        "import os\n",
        "import numpy as np\n",
        "import cv2\n",
        "from scipy.ndimage.interpolation import shift\n",
        "from skimage.transform import rotate\n",
        "from sklearn.model_selection import train_test_split\n",
        "from sklearn.preprocessing import OneHotEncoder\n",
        "import matplotlib.pyplot as plt\n",
        "import tensorflow as tf\n",
        "from mnist import MNIST\n",
        "from PIL import Image, ImageOps\n",
        "import pandas as pd\n",
        "from sklearn.metrics import confusion_matrix\n",
        "import seaborn as sn"
      ],
      "execution_count": 3,
      "outputs": []
    },
    {
      "cell_type": "markdown",
      "metadata": {
        "id": "REFk3Q84x6tn"
      },
      "source": [
        "##Part 1"
      ]
    },
    {
      "cell_type": "markdown",
      "metadata": {
        "id": "ixW8lOa8ww7J"
      },
      "source": [
        "### Importing, Preprocessing and Augmenting Dataset"
      ]
    },
    {
      "cell_type": "code",
      "metadata": {
        "id": "WjVPzvqfd-N3"
      },
      "source": [
        "root_path = \"/content/drive/MyDrive/train\"\n",
        "def first_preprocessing():\n",
        "  img_data = []\n",
        "  class_data = []\n",
        "  for i in os.listdir(root_path):\n",
        "    sub_folder = root_path + \"/\" + i\n",
        "    for j in os.listdir(sub_folder):\n",
        "      image_path = sub_folder + \"/\" + j\n",
        "      img = cv2.imread(image_path)\n",
        "      gray = cv2.cvtColor(img, cv2.COLOR_BGR2GRAY)\n",
        "      ret, thresh1 = cv2.threshold(gray, 0, 255, cv2.THRESH_OTSU | cv2.THRESH_BINARY_INV)\n",
        "      rect_kernel = cv2.getStructuringElement(cv2.MORPH_RECT, (18, 18))\n",
        "      dilation = cv2.dilate(thresh1, rect_kernel, iterations = 1)\n",
        "      contours, hierarchy = cv2.findContours(dilation, cv2.RETR_EXTERNAL, \n",
        "                                                      cv2.CHAIN_APPROX_NONE)\n",
        "      im2 = img.copy()\n",
        "      img = Image.fromarray(im2)\n",
        "      X = []\n",
        "      Y = []\n",
        "      W = []\n",
        "      H = []\n",
        "      for cnt in contours:\n",
        "          x, y, w, h = cv2.boundingRect(cnt)\n",
        "          X.append(x)\n",
        "          Y.append(y)\n",
        "          W.append(w)\n",
        "          H.append(h)\n",
        "      if len(contours) > 1:\n",
        "        x = min(X)\n",
        "        y = min(Y)\n",
        "        w = max(W)\n",
        "        h = sum(H) + max(Y) - min(Y) - min(H)\n",
        "      else:\n",
        "        x, y, w, h = cv2.boundingRect(contours[0])\n",
        "      im2 = img.crop((x, y, x+w, y+h))\n",
        "      im2 = ImageOps.expand(im2,border=75,fill='white')\n",
        "      im2 = ImageOps.invert(im2)\n",
        "      im2 = np.array(im2)\n",
        "      img_data.append(im2)\n",
        "      class_data.append(i)\n",
        "  return img_data, class_data\n",
        "X, Y = first_preprocessing()"
      ],
      "execution_count": 4,
      "outputs": []
    },
    {
      "cell_type": "code",
      "metadata": {
        "id": "EOZGX6TM4B1H"
      },
      "source": [
        "IMG_HEIGHT = 28\n",
        "IMG_WIDTH = 28\n",
        "dir = []\n",
        "def create_dataset(X, Y):\n",
        "   \n",
        "    img_data_array=[]\n",
        "    class_name=[]\n",
        "   \n",
        "    for i in range(len(X)):\n",
        "      image = X[i]\n",
        "      image = cv2.resize(image, (IMG_HEIGHT, IMG_WIDTH),interpolation = cv2.INTER_AREA)\n",
        "      image = np.array(image)\n",
        "      image = image.astype('float32')\n",
        "      image /= 255\n",
        "      left = shift(image, [0, -2, 0], cval=0)\n",
        "      right = shift(image, [0, 2, 0], cval=0)\n",
        "      up = shift(image, [2, 0, 0], cval=0)\n",
        "      down = shift(image, [-2, 0, 0], cval=0)\n",
        "      img_data_array.append(image)\n",
        "      class_name.append(Y[i])\n",
        "      img_data_array.append(left)\n",
        "      class_name.append(Y[i])\n",
        "      img_data_array.append(right)\n",
        "      class_name.append(Y[i])\n",
        "      img_data_array.append(up)\n",
        "      class_name.append(Y[i])\n",
        "      img_data_array.append(down)\n",
        "      class_name.append(Y[i])\n",
        "      for angle in range(-30, 31, 10):\n",
        "        if angle != 0:\n",
        "          rotated = rotate(image, angle)\n",
        "          img_data_array.append(rotated)\n",
        "          class_name.append(Y[i])\n",
        "    return img_data_array, class_name\n",
        "X, Y = create_dataset(X, Y)"
      ],
      "execution_count": 5,
      "outputs": []
    },
    {
      "cell_type": "code",
      "metadata": {
        "id": "QUAxLLaK8KN1"
      },
      "source": [
        "X_train_first, X_test_first, Y_train_first, Y_test_first = train_test_split(X, Y, test_size = 0.2, random_state=42)"
      ],
      "execution_count": 6,
      "outputs": []
    },
    {
      "cell_type": "code",
      "metadata": {
        "id": "5INjkSqE8nk1"
      },
      "source": [
        "encoderFirst = OneHotEncoder(sparse=False)\n",
        "Y_train_first = np.array(Y_train_first)\n",
        "Y_test_first = np.array(Y_test_first)\n",
        "Y_train_first = Y_train_first.reshape(-1,1)\n",
        "Y_test_first = Y_test_first.reshape(-1, 1)\n",
        "Y_train_first = encoderFirst.fit_transform(Y_train_first)\n",
        "Y_test_first = encoderFirst.transform(Y_test_first)"
      ],
      "execution_count": 7,
      "outputs": []
    },
    {
      "cell_type": "code",
      "metadata": {
        "colab": {
          "base_uri": "https://localhost:8080/"
        },
        "id": "2hXyLr9D91Ap",
        "outputId": "ce2b0d37-7307-499d-8619-3bb9b689e633"
      },
      "source": [
        "X_train_first = np.array(X_train_first)\n",
        "X_train_first.shape"
      ],
      "execution_count": 8,
      "outputs": [
        {
          "output_type": "execute_result",
          "data": {
            "text/plain": [
              "(21824, 28, 28, 3)"
            ]
          },
          "metadata": {
            "tags": []
          },
          "execution_count": 8
        }
      ]
    },
    {
      "cell_type": "code",
      "metadata": {
        "colab": {
          "base_uri": "https://localhost:8080/"
        },
        "id": "itZA8UL196AT",
        "outputId": "290af179-d7bf-48e7-8d44-09e7646a3d0f"
      },
      "source": [
        "X_test_first = np.array(X_test_first)\n",
        "X_test_first.shape"
      ],
      "execution_count": 9,
      "outputs": [
        {
          "output_type": "execute_result",
          "data": {
            "text/plain": [
              "(5456, 28, 28, 3)"
            ]
          },
          "metadata": {
            "tags": []
          },
          "execution_count": 9
        }
      ]
    },
    {
      "cell_type": "code",
      "metadata": {
        "colab": {
          "base_uri": "https://localhost:8080/"
        },
        "id": "rvHfH5xa99lO",
        "outputId": "54a2b36c-568d-4230-c448-098a63096836"
      },
      "source": [
        "Y_test_first.shape"
      ],
      "execution_count": 10,
      "outputs": [
        {
          "output_type": "execute_result",
          "data": {
            "text/plain": [
              "(5456, 62)"
            ]
          },
          "metadata": {
            "tags": []
          },
          "execution_count": 10
        }
      ]
    },
    {
      "cell_type": "code",
      "metadata": {
        "colab": {
          "base_uri": "https://localhost:8080/"
        },
        "id": "HtUK4Ng2-Ud3",
        "outputId": "0d0b5387-ab03-4b22-e536-70b0d931ea50"
      },
      "source": [
        "Y_train_first.shape"
      ],
      "execution_count": 11,
      "outputs": [
        {
          "output_type": "execute_result",
          "data": {
            "text/plain": [
              "(21824, 62)"
            ]
          },
          "metadata": {
            "tags": []
          },
          "execution_count": 11
        }
      ]
    },
    {
      "cell_type": "code",
      "metadata": {
        "id": "cNyLPocw5O3c"
      },
      "source": [
        "early = EarlyStopping(monitor=\"val_accuracy\", patience=5, verbose = 2,  restore_best_weights=True)"
      ],
      "execution_count": 12,
      "outputs": []
    },
    {
      "cell_type": "markdown",
      "metadata": {
        "id": "ia52PqL2w59J"
      },
      "source": [
        "###First Part Model"
      ]
    },
    {
      "cell_type": "code",
      "metadata": {
        "id": "6hEE76nAq7-E"
      },
      "source": [
        "model_part_one_checkpoint = ModelCheckpoint(\"checkpoints/model_part_one_checkpoint\", monitor=\"val_accuracy\", verbose = 2, save_best_only = False, save_weights_only = False)"
      ],
      "execution_count": 13,
      "outputs": []
    },
    {
      "cell_type": "code",
      "metadata": {
        "colab": {
          "base_uri": "https://localhost:8080/"
        },
        "id": "TNaI_MJvrCic",
        "outputId": "1e7b6342-8fa1-4f5b-ae93-d13b29901d99"
      },
      "source": [
        "model_part_one = Sequential()\n",
        "model_part_one.add(Conv2D(32, kernel_size = (3, 3), activation=\"relu\", input_shape=(28, 28, 3)))\n",
        "model_part_one.add(MaxPooling2D())\n",
        "model_part_one.add(Conv2D(64, activation=\"relu\", kernel_size=(5, 5)))\n",
        "model_part_one.add(MaxPooling2D())\n",
        "model_part_one.add(Conv2D(128, activation=\"relu\", kernel_size=(3, 3)))\n",
        "model_part_one.add(MaxPooling2D())\n",
        "model_part_one.add(Flatten())\n",
        "model_part_one.add(Dense(256, activation=\"relu\"))\n",
        "model_part_one.add(BatchNormalization())\n",
        "model_part_one.add(Dropout(0.2))\n",
        "model_part_one.add(Dense(62, activation=\"softmax\"))\n",
        "model_part_one.compile(optimizer = 'adam', loss = 'categorical_crossentropy', metrics = ['accuracy'])\n",
        "model_part_one.summary()"
      ],
      "execution_count": 14,
      "outputs": [
        {
          "output_type": "stream",
          "text": [
            "Model: \"sequential\"\n",
            "_________________________________________________________________\n",
            "Layer (type)                 Output Shape              Param #   \n",
            "=================================================================\n",
            "conv2d (Conv2D)              (None, 26, 26, 32)        896       \n",
            "_________________________________________________________________\n",
            "max_pooling2d (MaxPooling2D) (None, 13, 13, 32)        0         \n",
            "_________________________________________________________________\n",
            "conv2d_1 (Conv2D)            (None, 9, 9, 64)          51264     \n",
            "_________________________________________________________________\n",
            "max_pooling2d_1 (MaxPooling2 (None, 4, 4, 64)          0         \n",
            "_________________________________________________________________\n",
            "conv2d_2 (Conv2D)            (None, 2, 2, 128)         73856     \n",
            "_________________________________________________________________\n",
            "max_pooling2d_2 (MaxPooling2 (None, 1, 1, 128)         0         \n",
            "_________________________________________________________________\n",
            "flatten (Flatten)            (None, 128)               0         \n",
            "_________________________________________________________________\n",
            "dense (Dense)                (None, 256)               33024     \n",
            "_________________________________________________________________\n",
            "batch_normalization (BatchNo (None, 256)               1024      \n",
            "_________________________________________________________________\n",
            "dropout (Dropout)            (None, 256)               0         \n",
            "_________________________________________________________________\n",
            "dense_1 (Dense)              (None, 62)                15934     \n",
            "=================================================================\n",
            "Total params: 175,998\n",
            "Trainable params: 175,486\n",
            "Non-trainable params: 512\n",
            "_________________________________________________________________\n"
          ],
          "name": "stdout"
        }
      ]
    },
    {
      "cell_type": "code",
      "metadata": {
        "id": "htjPxFyBp_Eu",
        "colab": {
          "base_uri": "https://localhost:8080/"
        },
        "outputId": "3411c94f-aa42-4ae1-cb97-af681c8461d5"
      },
      "source": [
        "history_part_one = model_part_one.fit(\n",
        "    X_train_first, Y_train_first,\n",
        "    validation_data = (X_test_first, Y_test_first), \n",
        "    batch_size=32,\n",
        "    epochs = 100, callbacks=[early, model_part_one_checkpoint])"
      ],
      "execution_count": 15,
      "outputs": [
        {
          "output_type": "stream",
          "text": [
            "Epoch 1/100\n",
            "682/682 [==============================] - 27s 38ms/step - loss: 2.0490 - accuracy: 0.4709 - val_loss: 0.8361 - val_accuracy: 0.7304\n",
            "\n",
            "Epoch 00001: saving model to checkpoints/model_part_one_checkpoint\n",
            "INFO:tensorflow:Assets written to: checkpoints/model_part_one_checkpoint/assets\n",
            "Epoch 2/100\n",
            "682/682 [==============================] - 26s 38ms/step - loss: 0.5411 - accuracy: 0.8296 - val_loss: 0.5716 - val_accuracy: 0.8101\n",
            "\n",
            "Epoch 00002: saving model to checkpoints/model_part_one_checkpoint\n",
            "INFO:tensorflow:Assets written to: checkpoints/model_part_one_checkpoint/assets\n",
            "Epoch 3/100\n",
            "682/682 [==============================] - 26s 38ms/step - loss: 0.3715 - accuracy: 0.8731 - val_loss: 0.4580 - val_accuracy: 0.8413\n",
            "\n",
            "Epoch 00003: saving model to checkpoints/model_part_one_checkpoint\n",
            "INFO:tensorflow:Assets written to: checkpoints/model_part_one_checkpoint/assets\n",
            "Epoch 4/100\n",
            "682/682 [==============================] - 26s 38ms/step - loss: 0.2904 - accuracy: 0.8960 - val_loss: 0.4606 - val_accuracy: 0.8440\n",
            "\n",
            "Epoch 00004: saving model to checkpoints/model_part_one_checkpoint\n",
            "INFO:tensorflow:Assets written to: checkpoints/model_part_one_checkpoint/assets\n",
            "Epoch 5/100\n",
            "682/682 [==============================] - 26s 38ms/step - loss: 0.2365 - accuracy: 0.9158 - val_loss: 0.3519 - val_accuracy: 0.8781\n",
            "\n",
            "Epoch 00005: saving model to checkpoints/model_part_one_checkpoint\n",
            "INFO:tensorflow:Assets written to: checkpoints/model_part_one_checkpoint/assets\n",
            "Epoch 6/100\n",
            "682/682 [==============================] - 26s 38ms/step - loss: 0.2141 - accuracy: 0.9197 - val_loss: 0.3285 - val_accuracy: 0.8884\n",
            "\n",
            "Epoch 00006: saving model to checkpoints/model_part_one_checkpoint\n",
            "INFO:tensorflow:Assets written to: checkpoints/model_part_one_checkpoint/assets\n",
            "Epoch 7/100\n",
            "682/682 [==============================] - 25s 37ms/step - loss: 0.1757 - accuracy: 0.9345 - val_loss: 0.3385 - val_accuracy: 0.8801\n",
            "\n",
            "Epoch 00007: saving model to checkpoints/model_part_one_checkpoint\n",
            "INFO:tensorflow:Assets written to: checkpoints/model_part_one_checkpoint/assets\n",
            "Epoch 8/100\n",
            "682/682 [==============================] - 26s 38ms/step - loss: 0.1601 - accuracy: 0.9412 - val_loss: 0.2896 - val_accuracy: 0.9001\n",
            "\n",
            "Epoch 00008: saving model to checkpoints/model_part_one_checkpoint\n",
            "INFO:tensorflow:Assets written to: checkpoints/model_part_one_checkpoint/assets\n",
            "Epoch 9/100\n",
            "682/682 [==============================] - 26s 38ms/step - loss: 0.1561 - accuracy: 0.9384 - val_loss: 0.2920 - val_accuracy: 0.9074\n",
            "\n",
            "Epoch 00009: saving model to checkpoints/model_part_one_checkpoint\n",
            "INFO:tensorflow:Assets written to: checkpoints/model_part_one_checkpoint/assets\n",
            "Epoch 10/100\n",
            "682/682 [==============================] - 26s 37ms/step - loss: 0.1285 - accuracy: 0.9521 - val_loss: 0.3118 - val_accuracy: 0.8988\n",
            "\n",
            "Epoch 00010: saving model to checkpoints/model_part_one_checkpoint\n",
            "INFO:tensorflow:Assets written to: checkpoints/model_part_one_checkpoint/assets\n",
            "Epoch 11/100\n",
            "682/682 [==============================] - 25s 37ms/step - loss: 0.1193 - accuracy: 0.9572 - val_loss: 0.2958 - val_accuracy: 0.9023\n",
            "\n",
            "Epoch 00011: saving model to checkpoints/model_part_one_checkpoint\n",
            "INFO:tensorflow:Assets written to: checkpoints/model_part_one_checkpoint/assets\n",
            "Epoch 12/100\n",
            "682/682 [==============================] - 25s 37ms/step - loss: 0.0965 - accuracy: 0.9658 - val_loss: 0.2737 - val_accuracy: 0.9120\n",
            "\n",
            "Epoch 00012: saving model to checkpoints/model_part_one_checkpoint\n",
            "INFO:tensorflow:Assets written to: checkpoints/model_part_one_checkpoint/assets\n",
            "Epoch 13/100\n",
            "682/682 [==============================] - 26s 37ms/step - loss: 0.1060 - accuracy: 0.9599 - val_loss: 0.2854 - val_accuracy: 0.9120\n",
            "\n",
            "Epoch 00013: saving model to checkpoints/model_part_one_checkpoint\n",
            "INFO:tensorflow:Assets written to: checkpoints/model_part_one_checkpoint/assets\n",
            "Epoch 14/100\n",
            "682/682 [==============================] - 26s 38ms/step - loss: 0.0948 - accuracy: 0.9663 - val_loss: 0.2776 - val_accuracy: 0.9078\n",
            "\n",
            "Epoch 00014: saving model to checkpoints/model_part_one_checkpoint\n",
            "INFO:tensorflow:Assets written to: checkpoints/model_part_one_checkpoint/assets\n",
            "Epoch 15/100\n",
            "682/682 [==============================] - 26s 38ms/step - loss: 0.0892 - accuracy: 0.9670 - val_loss: 0.2384 - val_accuracy: 0.9239\n",
            "\n",
            "Epoch 00015: saving model to checkpoints/model_part_one_checkpoint\n",
            "INFO:tensorflow:Assets written to: checkpoints/model_part_one_checkpoint/assets\n",
            "Epoch 16/100\n",
            "682/682 [==============================] - 26s 38ms/step - loss: 0.0754 - accuracy: 0.9721 - val_loss: 0.2551 - val_accuracy: 0.9219\n",
            "\n",
            "Epoch 00016: saving model to checkpoints/model_part_one_checkpoint\n",
            "INFO:tensorflow:Assets written to: checkpoints/model_part_one_checkpoint/assets\n",
            "Epoch 17/100\n",
            "682/682 [==============================] - 26s 38ms/step - loss: 0.0843 - accuracy: 0.9687 - val_loss: 0.2432 - val_accuracy: 0.9269\n",
            "\n",
            "Epoch 00017: saving model to checkpoints/model_part_one_checkpoint\n",
            "INFO:tensorflow:Assets written to: checkpoints/model_part_one_checkpoint/assets\n",
            "Epoch 18/100\n",
            "682/682 [==============================] - 26s 37ms/step - loss: 0.0713 - accuracy: 0.9733 - val_loss: 0.2664 - val_accuracy: 0.9205\n",
            "\n",
            "Epoch 00018: saving model to checkpoints/model_part_one_checkpoint\n",
            "INFO:tensorflow:Assets written to: checkpoints/model_part_one_checkpoint/assets\n",
            "Epoch 19/100\n",
            "682/682 [==============================] - 26s 37ms/step - loss: 0.0678 - accuracy: 0.9764 - val_loss: 0.3086 - val_accuracy: 0.9096\n",
            "\n",
            "Epoch 00019: saving model to checkpoints/model_part_one_checkpoint\n",
            "INFO:tensorflow:Assets written to: checkpoints/model_part_one_checkpoint/assets\n",
            "Epoch 20/100\n",
            "682/682 [==============================] - 26s 38ms/step - loss: 0.0668 - accuracy: 0.9753 - val_loss: 0.2633 - val_accuracy: 0.9208\n",
            "\n",
            "Epoch 00020: saving model to checkpoints/model_part_one_checkpoint\n",
            "INFO:tensorflow:Assets written to: checkpoints/model_part_one_checkpoint/assets\n",
            "Epoch 21/100\n",
            "682/682 [==============================] - 25s 37ms/step - loss: 0.0638 - accuracy: 0.9780 - val_loss: 0.2330 - val_accuracy: 0.9307\n",
            "\n",
            "Epoch 00021: saving model to checkpoints/model_part_one_checkpoint\n",
            "INFO:tensorflow:Assets written to: checkpoints/model_part_one_checkpoint/assets\n",
            "Epoch 22/100\n",
            "682/682 [==============================] - 26s 38ms/step - loss: 0.0490 - accuracy: 0.9827 - val_loss: 0.2600 - val_accuracy: 0.9298\n",
            "\n",
            "Epoch 00022: saving model to checkpoints/model_part_one_checkpoint\n",
            "INFO:tensorflow:Assets written to: checkpoints/model_part_one_checkpoint/assets\n",
            "Epoch 23/100\n",
            "682/682 [==============================] - 26s 38ms/step - loss: 0.0474 - accuracy: 0.9844 - val_loss: 0.3287 - val_accuracy: 0.9161\n",
            "\n",
            "Epoch 00023: saving model to checkpoints/model_part_one_checkpoint\n",
            "INFO:tensorflow:Assets written to: checkpoints/model_part_one_checkpoint/assets\n",
            "Epoch 24/100\n",
            "682/682 [==============================] - 26s 38ms/step - loss: 0.0513 - accuracy: 0.9814 - val_loss: 0.2656 - val_accuracy: 0.9304\n",
            "\n",
            "Epoch 00024: saving model to checkpoints/model_part_one_checkpoint\n",
            "INFO:tensorflow:Assets written to: checkpoints/model_part_one_checkpoint/assets\n",
            "Epoch 25/100\n",
            "682/682 [==============================] - 26s 38ms/step - loss: 0.0417 - accuracy: 0.9854 - val_loss: 0.2710 - val_accuracy: 0.9282\n",
            "\n",
            "Epoch 00025: saving model to checkpoints/model_part_one_checkpoint\n",
            "INFO:tensorflow:Assets written to: checkpoints/model_part_one_checkpoint/assets\n",
            "Epoch 26/100\n",
            "682/682 [==============================] - 26s 38ms/step - loss: 0.0500 - accuracy: 0.9816 - val_loss: 0.3311 - val_accuracy: 0.9120\n",
            "Restoring model weights from the end of the best epoch.\n",
            "\n",
            "Epoch 00026: saving model to checkpoints/model_part_one_checkpoint\n",
            "INFO:tensorflow:Assets written to: checkpoints/model_part_one_checkpoint/assets\n",
            "Epoch 00026: early stopping\n"
          ],
          "name": "stdout"
        }
      ]
    },
    {
      "cell_type": "code",
      "metadata": {
        "id": "fpmE6xI37Jo6",
        "colab": {
          "base_uri": "https://localhost:8080/"
        },
        "outputId": "f14e23fa-0327-4903-932b-6324a5bd4502"
      },
      "source": [
        "model_part_one.save(\"model_part_one.hd5\")"
      ],
      "execution_count": 16,
      "outputs": [
        {
          "output_type": "stream",
          "text": [
            "INFO:tensorflow:Assets written to: model_part_one.hd5/assets\n"
          ],
          "name": "stdout"
        }
      ]
    },
    {
      "cell_type": "markdown",
      "metadata": {
        "id": "mhBn6npSxxyJ"
      },
      "source": [
        "### Loss Analysis"
      ]
    },
    {
      "cell_type": "code",
      "metadata": {
        "id": "Z9u9JbiqoNki",
        "colab": {
          "base_uri": "https://localhost:8080/",
          "height": 295
        },
        "outputId": "a54f3369-40e7-4979-d5b9-586b313585fe"
      },
      "source": [
        "plt.plot(history_part_one.history[\"loss\"], label=\"train_loss\")\n",
        "plt.plot(history_part_one.history[\"val_loss\"], label=\"val_loss\")\n",
        "plt.title(\"Model Training\")\n",
        "plt.xlabel(\"Epoch #\")\n",
        "plt.ylabel(\"Loss\")\n",
        "plt.legend()\n",
        "plt.savefig(\"images/FirstLoss.png\")"
      ],
      "execution_count": 17,
      "outputs": [
        {
          "output_type": "display_data",
          "data": {
            "image/png": "[encoded data removed]",
            "text/plain": [
              "<Figure size 432x288 with 1 Axes>"
            ]
          },
          "metadata": {
            "tags": [],
            "needs_background": "light"
          }
        }
      ]
    },
    {
      "cell_type": "markdown",
      "metadata": {
        "id": "27hLEc-rx1WZ"
      },
      "source": [
        "### Accuracy Analysis"
      ]
    },
    {
      "cell_type": "code",
      "metadata": {
        "id": "U57g13FUoeAf",
        "colab": {
          "base_uri": "https://localhost:8080/",
          "height": 295
        },
        "outputId": "571f6146-01dc-43e9-ec55-58d018a453d5"
      },
      "source": [
        "plt.plot(history_part_one.history[\"accuracy\"], label=\"train_acc\")\n",
        "plt.plot(history_part_one.history[\"val_accuracy\"], label=\"val_acc\")\n",
        "plt.title(\"Model Training\")\n",
        "plt.xlabel(\"Epoch #\")\n",
        "plt.ylabel(\"Accuracy\")\n",
        "plt.legend()\n",
        "plt.savefig(\"images/FirstAccuracy.png\")"
      ],
      "execution_count": 18,
      "outputs": [
        {
          "output_type": "display_data",
          "data": {
            "image/png": "[encoded data removed]",
            "text/plain": [
              "<Figure size 432x288 with 1 Axes>"
            ]
          },
          "metadata": {
            "tags": [],
            "needs_background": "light"
          }
        }
      ]
    },
    {
      "cell_type": "markdown",
      "metadata": {
        "id": "xObGJ-9vyJ17"
      },
      "source": [
        "##Part 2"
      ]
    },
    {
      "cell_type": "markdown",
      "metadata": {
        "id": "UepWlG2RR2Mb"
      },
      "source": [
        "### Second Dataset Importing"
      ]
    },
    {
      "cell_type": "code",
      "metadata": {
        "id": "YY9GJw-YR1ng"
      },
      "source": [
        "dirs = [f\"Sample00{i}\" for i in range(1, 11)]"
      ],
      "execution_count": 19,
      "outputs": []
    },
    {
      "cell_type": "code",
      "metadata": {
        "id": "2BofIDQjXfO9"
      },
      "source": [
        "dirs[-1] = \"Sample010\""
      ],
      "execution_count": 20,
      "outputs": []
    },
    {
      "cell_type": "code",
      "metadata": {
        "id": "it8SQ_k5SRGy"
      },
      "source": [
        "second_pretrained_data = []\n",
        "second_pretrained_class = []\n",
        "for i in range(len(X)):\n",
        "  if Y[i] in dirs:\n",
        "    image = X[i]\n",
        "    second_pretrained_data.append(image)\n",
        "    second_pretrained_class.append(Y[i])"
      ],
      "execution_count": 21,
      "outputs": []
    },
    {
      "cell_type": "code",
      "metadata": {
        "id": "8BI86v_UUAhf"
      },
      "source": [
        "second_pretrained_data = np.array(second_pretrained_data)\n",
        "second_pretrained_class = np.array(second_pretrained_class)"
      ],
      "execution_count": 22,
      "outputs": []
    },
    {
      "cell_type": "code",
      "metadata": {
        "id": "rb_xKrL9T25p"
      },
      "source": [
        "second_pretrained_class = second_pretrained_class.reshape(-1, 1)"
      ],
      "execution_count": 23,
      "outputs": []
    },
    {
      "cell_type": "code",
      "metadata": {
        "id": "E2gCDGyxTuLr"
      },
      "source": [
        "second_pretrained_encoder = OneHotEncoder(sparse=False)\n",
        "second_pretrained_class = second_pretrained_encoder.fit_transform(second_pretrained_class)"
      ],
      "execution_count": 24,
      "outputs": []
    },
    {
      "cell_type": "code",
      "metadata": {
        "id": "GOkuFZrNSk9s"
      },
      "source": [
        "X_train_second, X_test_second, Y_train_second, Y_test_second = train_test_split(second_pretrained_data, second_pretrained_class)"
      ],
      "execution_count": 25,
      "outputs": []
    },
    {
      "cell_type": "markdown",
      "metadata": {
        "id": "bo60c7Y4yXuc"
      },
      "source": [
        "###Second Pretrained Model"
      ]
    },
    {
      "cell_type": "code",
      "metadata": {
        "id": "2VxKyUU_UNK6"
      },
      "source": [
        "second_pretrained_model = clone_model(model_part_one)\n",
        "second_pretrained_model.set_weights(model_part_one.get_weights())"
      ],
      "execution_count": 26,
      "outputs": []
    },
    {
      "cell_type": "code",
      "metadata": {
        "id": "8kxxCHV1UQ6K",
        "colab": {
          "base_uri": "https://localhost:8080/"
        },
        "outputId": "abd843e2-8299-4338-cc41-6bd168309129"
      },
      "source": [
        "second_pretrained_model.summary()"
      ],
      "execution_count": 27,
      "outputs": [
        {
          "output_type": "stream",
          "text": [
            "Model: \"sequential\"\n",
            "_________________________________________________________________\n",
            "Layer (type)                 Output Shape              Param #   \n",
            "=================================================================\n",
            "conv2d (Conv2D)              (None, 26, 26, 32)        896       \n",
            "_________________________________________________________________\n",
            "max_pooling2d (MaxPooling2D) (None, 13, 13, 32)        0         \n",
            "_________________________________________________________________\n",
            "conv2d_1 (Conv2D)            (None, 9, 9, 64)          51264     \n",
            "_________________________________________________________________\n",
            "max_pooling2d_1 (MaxPooling2 (None, 4, 4, 64)          0         \n",
            "_________________________________________________________________\n",
            "conv2d_2 (Conv2D)            (None, 2, 2, 128)         73856     \n",
            "_________________________________________________________________\n",
            "max_pooling2d_2 (MaxPooling2 (None, 1, 1, 128)         0         \n",
            "_________________________________________________________________\n",
            "flatten (Flatten)            (None, 128)               0         \n",
            "_________________________________________________________________\n",
            "dense (Dense)                (None, 256)               33024     \n",
            "_________________________________________________________________\n",
            "batch_normalization (BatchNo (None, 256)               1024      \n",
            "_________________________________________________________________\n",
            "dropout (Dropout)            (None, 256)               0         \n",
            "_________________________________________________________________\n",
            "dense_1 (Dense)              (None, 62)                15934     \n",
            "=================================================================\n",
            "Total params: 175,998\n",
            "Trainable params: 175,486\n",
            "Non-trainable params: 512\n",
            "_________________________________________________________________\n"
          ],
          "name": "stdout"
        }
      ]
    },
    {
      "cell_type": "code",
      "metadata": {
        "id": "J2bJnxbuUTOS"
      },
      "source": [
        "second_pretrained_model_mnist = keras.models.Sequential(second_pretrained_model.layers[:-1])"
      ],
      "execution_count": 28,
      "outputs": []
    },
    {
      "cell_type": "code",
      "metadata": {
        "id": "evp9JLBxUkoC",
        "colab": {
          "base_uri": "https://localhost:8080/"
        },
        "outputId": "4c78ee3b-7e4e-48c8-eb2f-eb6f4cadfe34"
      },
      "source": [
        "second_pretrained_model_mnist.add(Dense(10, activation=\"softmax\"))\n",
        "second_pretrained_model_mnist.summary()"
      ],
      "execution_count": 29,
      "outputs": [
        {
          "output_type": "stream",
          "text": [
            "Model: \"sequential_1\"\n",
            "_________________________________________________________________\n",
            "Layer (type)                 Output Shape              Param #   \n",
            "=================================================================\n",
            "conv2d (Conv2D)              (None, 26, 26, 32)        896       \n",
            "_________________________________________________________________\n",
            "max_pooling2d (MaxPooling2D) (None, 13, 13, 32)        0         \n",
            "_________________________________________________________________\n",
            "conv2d_1 (Conv2D)            (None, 9, 9, 64)          51264     \n",
            "_________________________________________________________________\n",
            "max_pooling2d_1 (MaxPooling2 (None, 4, 4, 64)          0         \n",
            "_________________________________________________________________\n",
            "conv2d_2 (Conv2D)            (None, 2, 2, 128)         73856     \n",
            "_________________________________________________________________\n",
            "max_pooling2d_2 (MaxPooling2 (None, 1, 1, 128)         0         \n",
            "_________________________________________________________________\n",
            "flatten (Flatten)            (None, 128)               0         \n",
            "_________________________________________________________________\n",
            "dense (Dense)                (None, 256)               33024     \n",
            "_________________________________________________________________\n",
            "batch_normalization (BatchNo (None, 256)               1024      \n",
            "_________________________________________________________________\n",
            "dropout (Dropout)            (None, 256)               0         \n",
            "_________________________________________________________________\n",
            "dense_2 (Dense)              (None, 10)                2570      \n",
            "=================================================================\n",
            "Total params: 162,634\n",
            "Trainable params: 162,122\n",
            "Non-trainable params: 512\n",
            "_________________________________________________________________\n"
          ],
          "name": "stdout"
        }
      ]
    },
    {
      "cell_type": "code",
      "metadata": {
        "id": "f4SACPT4Vke5"
      },
      "source": [
        "second_pretrained_model_mnist.compile(optimizer=\"adam\", loss=\"categorical_crossentropy\", metrics=[\"accuracy\"])"
      ],
      "execution_count": 30,
      "outputs": []
    },
    {
      "cell_type": "code",
      "metadata": {
        "id": "9u5hIxy9rnwF"
      },
      "source": [
        "second_pretrained_model_checkpoint = ModelCheckpoint(\"checkpoints/second_pretrained_model_checkpoint\", monitor=\"val_accuracy\", verbose = 2, save_best_only = False, save_weights_only = False)"
      ],
      "execution_count": 31,
      "outputs": []
    },
    {
      "cell_type": "code",
      "metadata": {
        "id": "hKNkv_a9Wh3h",
        "colab": {
          "base_uri": "https://localhost:8080/"
        },
        "outputId": "9754f1ae-f1b8-48a2-8cd2-737491498a9d"
      },
      "source": [
        "second_pretrained_history = second_pretrained_model_mnist.fit(X_train_second, Y_train_second, batch_size=32, validation_data=(X_test_second, Y_test_second), verbose=2, epochs=50, callbacks=[early, second_pretrained_model_checkpoint])"
      ],
      "execution_count": 32,
      "outputs": [
        {
          "output_type": "stream",
          "text": [
            "Epoch 1/50\n",
            "104/104 - 5s - loss: 0.4455 - accuracy: 0.8833 - val_loss: 0.0513 - val_accuracy: 0.9900\n",
            "\n",
            "Epoch 00001: saving model to checkpoints/second_pretrained_model_checkpoint\n",
            "INFO:tensorflow:Assets written to: checkpoints/second_pretrained_model_checkpoint/assets\n",
            "Epoch 2/50\n",
            "104/104 - 4s - loss: 0.0327 - accuracy: 0.9955 - val_loss: 0.0153 - val_accuracy: 0.9973\n",
            "\n",
            "Epoch 00002: saving model to checkpoints/second_pretrained_model_checkpoint\n",
            "INFO:tensorflow:Assets written to: checkpoints/second_pretrained_model_checkpoint/assets\n",
            "Epoch 3/50\n",
            "104/104 - 4s - loss: 0.0135 - accuracy: 0.9988 - val_loss: 0.0087 - val_accuracy: 0.9982\n",
            "\n",
            "Epoch 00003: saving model to checkpoints/second_pretrained_model_checkpoint\n",
            "INFO:tensorflow:Assets written to: checkpoints/second_pretrained_model_checkpoint/assets\n",
            "Epoch 4/50\n",
            "104/104 - 4s - loss: 0.0086 - accuracy: 0.9997 - val_loss: 0.0044 - val_accuracy: 1.0000\n",
            "\n",
            "Epoch 00004: saving model to checkpoints/second_pretrained_model_checkpoint\n",
            "INFO:tensorflow:Assets written to: checkpoints/second_pretrained_model_checkpoint/assets\n",
            "Epoch 5/50\n",
            "104/104 - 4s - loss: 0.0120 - accuracy: 0.9979 - val_loss: 0.0055 - val_accuracy: 0.9991\n",
            "\n",
            "Epoch 00005: saving model to checkpoints/second_pretrained_model_checkpoint\n",
            "INFO:tensorflow:Assets written to: checkpoints/second_pretrained_model_checkpoint/assets\n",
            "Epoch 6/50\n",
            "104/104 - 4s - loss: 0.0053 - accuracy: 0.9997 - val_loss: 0.0034 - val_accuracy: 0.9991\n",
            "\n",
            "Epoch 00006: saving model to checkpoints/second_pretrained_model_checkpoint\n",
            "INFO:tensorflow:Assets written to: checkpoints/second_pretrained_model_checkpoint/assets\n",
            "Epoch 7/50\n",
            "104/104 - 4s - loss: 0.0091 - accuracy: 0.9985 - val_loss: 0.0051 - val_accuracy: 0.9991\n",
            "\n",
            "Epoch 00007: saving model to checkpoints/second_pretrained_model_checkpoint\n",
            "INFO:tensorflow:Assets written to: checkpoints/second_pretrained_model_checkpoint/assets\n",
            "Epoch 8/50\n",
            "104/104 - 4s - loss: 0.0023 - accuracy: 1.0000 - val_loss: 0.0043 - val_accuracy: 0.9991\n",
            "\n",
            "Epoch 00008: saving model to checkpoints/second_pretrained_model_checkpoint\n",
            "INFO:tensorflow:Assets written to: checkpoints/second_pretrained_model_checkpoint/assets\n",
            "Epoch 9/50\n",
            "104/104 - 4s - loss: 0.0024 - accuracy: 1.0000 - val_loss: 0.0048 - val_accuracy: 0.9991\n",
            "Restoring model weights from the end of the best epoch.\n",
            "\n",
            "Epoch 00009: saving model to checkpoints/second_pretrained_model_checkpoint\n",
            "INFO:tensorflow:Assets written to: checkpoints/second_pretrained_model_checkpoint/assets\n",
            "Epoch 00009: early stopping\n"
          ],
          "name": "stdout"
        }
      ]
    },
    {
      "cell_type": "code",
      "metadata": {
        "id": "lwhNHNDaXDfw",
        "colab": {
          "base_uri": "https://localhost:8080/"
        },
        "outputId": "ae1f2d76-1871-4174-e5aa-6187ba8fb364"
      },
      "source": [
        "second_pretrained_model_mnist.save(\"second_pretrained_model_mnist.hd5\")"
      ],
      "execution_count": 33,
      "outputs": [
        {
          "output_type": "stream",
          "text": [
            "INFO:tensorflow:Assets written to: second_pretrained_model_mnist.hd5/assets\n"
          ],
          "name": "stdout"
        }
      ]
    },
    {
      "cell_type": "markdown",
      "metadata": {
        "id": "lNfs0X2wydl6"
      },
      "source": [
        "###Second Pretrained Loss Analysis"
      ]
    },
    {
      "cell_type": "code",
      "metadata": {
        "id": "YF-2RtINrLMp",
        "colab": {
          "base_uri": "https://localhost:8080/",
          "height": 295
        },
        "outputId": "1b72c6ba-7c65-4564-aac8-a9aeca823a89"
      },
      "source": [
        "plt.plot(second_pretrained_history.history[\"loss\"], label=\"train_loss\")\n",
        "plt.plot(second_pretrained_history.history[\"val_loss\"], label=\"val_loss\")\n",
        "plt.title(\"Model Training\")\n",
        "plt.xlabel(\"Epoch #\")\n",
        "plt.ylabel(\"Loss\")\n",
        "plt.legend()\n",
        "plt.savefig(\"images/SecondPretrainedLoss.png\")"
      ],
      "execution_count": 34,
      "outputs": [
        {
          "output_type": "display_data",
          "data": {
            "image/png": "[encoded data removed]",
            "text/plain": [
              "<Figure size 432x288 with 1 Axes>"
            ]
          },
          "metadata": {
            "tags": [],
            "needs_background": "light"
          }
        }
      ]
    },
    {
      "cell_type": "markdown",
      "metadata": {
        "id": "h-HYphx8ygpR"
      },
      "source": [
        "###Second Pretrained Accuracy Analysis"
      ]
    },
    {
      "cell_type": "code",
      "metadata": {
        "id": "C2o8WWdnrdad",
        "colab": {
          "base_uri": "https://localhost:8080/",
          "height": 295
        },
        "outputId": "64ae7dd3-1d05-4561-8723-8e17ebb11110"
      },
      "source": [
        "plt.plot(second_pretrained_history.history[\"accuracy\"], label=\"train_acc\")\n",
        "plt.plot(second_pretrained_history.history[\"val_accuracy\"], label=\"val_acc\")\n",
        "plt.title(\"Model Training\")\n",
        "plt.xlabel(\"Epoch #\")\n",
        "plt.ylabel(\"Accuracy\")\n",
        "plt.legend()\n",
        "plt.savefig(\"images/SecondPretrainedAccuracy.png\")"
      ],
      "execution_count": 35,
      "outputs": [
        {
          "output_type": "display_data",
          "data": {
            "image/png": "[encoded data removed]",
            "text/plain": [
              "<Figure size 432x288 with 1 Axes>"
            ]
          },
          "metadata": {
            "tags": [],
            "needs_background": "light"
          }
        }
      ]
    },
    {
      "cell_type": "markdown",
      "metadata": {
        "id": "QtgDIqVAH6DV"
      },
      "source": [
        "###Second Pretrained Random Model"
      ]
    },
    {
      "cell_type": "code",
      "metadata": {
        "id": "CGG7zuLoH-rZ",
        "colab": {
          "base_uri": "https://localhost:8080/"
        },
        "outputId": "5b4b63e0-9d32-413b-8011-1770030c0d04"
      },
      "source": [
        "second_pretrained_random_model = Sequential()\n",
        "second_pretrained_random_model.add(Conv2D(32, kernel_size = (3, 3), activation=\"relu\", input_shape=(28, 28, 3)))\n",
        "second_pretrained_random_model.add(MaxPooling2D())\n",
        "second_pretrained_random_model.add(Conv2D(64, activation=\"relu\", kernel_size=(5, 5)))\n",
        "second_pretrained_random_model.add(MaxPooling2D())\n",
        "second_pretrained_random_model.add(Conv2D(128, activation=\"relu\", kernel_size=(3, 3)))\n",
        "second_pretrained_random_model.add(MaxPooling2D())\n",
        "second_pretrained_random_model.add(Flatten())\n",
        "second_pretrained_random_model.add(Dense(256, activation=\"relu\"))\n",
        "second_pretrained_random_model.add(BatchNormalization())\n",
        "second_pretrained_random_model.add(Dropout(0.2))\n",
        "second_pretrained_random_model.add(Dense(10, activation=\"softmax\"))\n",
        "second_pretrained_random_model.compile(optimizer = 'adam', loss = 'categorical_crossentropy', metrics = ['accuracy'])\n",
        "second_pretrained_random_model.summary()"
      ],
      "execution_count": 36,
      "outputs": [
        {
          "output_type": "stream",
          "text": [
            "Model: \"sequential_2\"\n",
            "_________________________________________________________________\n",
            "Layer (type)                 Output Shape              Param #   \n",
            "=================================================================\n",
            "conv2d_3 (Conv2D)            (None, 26, 26, 32)        896       \n",
            "_________________________________________________________________\n",
            "max_pooling2d_3 (MaxPooling2 (None, 13, 13, 32)        0         \n",
            "_________________________________________________________________\n",
            "conv2d_4 (Conv2D)            (None, 9, 9, 64)          51264     \n",
            "_________________________________________________________________\n",
            "max_pooling2d_4 (MaxPooling2 (None, 4, 4, 64)          0         \n",
            "_________________________________________________________________\n",
            "conv2d_5 (Conv2D)            (None, 2, 2, 128)         73856     \n",
            "_________________________________________________________________\n",
            "max_pooling2d_5 (MaxPooling2 (None, 1, 1, 128)         0         \n",
            "_________________________________________________________________\n",
            "flatten_1 (Flatten)          (None, 128)               0         \n",
            "_________________________________________________________________\n",
            "dense_3 (Dense)              (None, 256)               33024     \n",
            "_________________________________________________________________\n",
            "batch_normalization_1 (Batch (None, 256)               1024      \n",
            "_________________________________________________________________\n",
            "dropout_1 (Dropout)          (None, 256)               0         \n",
            "_________________________________________________________________\n",
            "dense_4 (Dense)              (None, 10)                2570      \n",
            "=================================================================\n",
            "Total params: 162,634\n",
            "Trainable params: 162,122\n",
            "Non-trainable params: 512\n",
            "_________________________________________________________________\n"
          ],
          "name": "stdout"
        }
      ]
    },
    {
      "cell_type": "code",
      "metadata": {
        "id": "S4J4HGFkryCu"
      },
      "source": [
        "second_pretrained_random_checkpoint = ModelCheckpoint(\"checkpoints/second_pretrained_random_checkpoint\", monitor=\"val_accuracy\", verbose = 2, save_best_only = False, save_weights_only = False)"
      ],
      "execution_count": 37,
      "outputs": []
    },
    {
      "cell_type": "code",
      "metadata": {
        "id": "Lj7N3-pFIMim",
        "colab": {
          "base_uri": "https://localhost:8080/"
        },
        "outputId": "15d53784-af4b-4a45-ff0a-5c5361d2426a"
      },
      "source": [
        "second_pretrained_random_history = second_pretrained_random_model.fit(X_train_second, Y_train_second, batch_size=32, validation_data=(X_test_second, Y_test_second), verbose=2, epochs=50, callbacks=[early, second_pretrained_random_checkpoint])"
      ],
      "execution_count": 38,
      "outputs": [
        {
          "output_type": "stream",
          "text": [
            "Epoch 1/50\n",
            "104/104 - 5s - loss: 0.5359 - accuracy: 0.8388 - val_loss: 1.4461 - val_accuracy: 0.6400\n",
            "\n",
            "Epoch 00001: saving model to checkpoints/second_pretrained_random_checkpoint\n",
            "INFO:tensorflow:Assets written to: checkpoints/second_pretrained_random_checkpoint/assets\n",
            "Epoch 2/50\n",
            "104/104 - 4s - loss: 0.1481 - accuracy: 0.9612 - val_loss: 0.7043 - val_accuracy: 0.8836\n",
            "\n",
            "Epoch 00002: saving model to checkpoints/second_pretrained_random_checkpoint\n",
            "INFO:tensorflow:Assets written to: checkpoints/second_pretrained_random_checkpoint/assets\n",
            "Epoch 3/50\n",
            "104/104 - 4s - loss: 0.0556 - accuracy: 0.9900 - val_loss: 0.2953 - val_accuracy: 0.9209\n",
            "\n",
            "Epoch 00003: saving model to checkpoints/second_pretrained_random_checkpoint\n",
            "INFO:tensorflow:Assets written to: checkpoints/second_pretrained_random_checkpoint/assets\n",
            "Epoch 4/50\n",
            "104/104 - 4s - loss: 0.0696 - accuracy: 0.9815 - val_loss: 0.1626 - val_accuracy: 0.9518\n",
            "\n",
            "Epoch 00004: saving model to checkpoints/second_pretrained_random_checkpoint\n",
            "INFO:tensorflow:Assets written to: checkpoints/second_pretrained_random_checkpoint/assets\n",
            "Epoch 5/50\n",
            "104/104 - 4s - loss: 0.0296 - accuracy: 0.9936 - val_loss: 0.1226 - val_accuracy: 0.9600\n",
            "\n",
            "Epoch 00005: saving model to checkpoints/second_pretrained_random_checkpoint\n",
            "INFO:tensorflow:Assets written to: checkpoints/second_pretrained_random_checkpoint/assets\n",
            "Epoch 6/50\n",
            "104/104 - 4s - loss: 0.0231 - accuracy: 0.9967 - val_loss: 0.0833 - val_accuracy: 0.9718\n",
            "\n",
            "Epoch 00006: saving model to checkpoints/second_pretrained_random_checkpoint\n",
            "INFO:tensorflow:Assets written to: checkpoints/second_pretrained_random_checkpoint/assets\n",
            "Epoch 7/50\n",
            "104/104 - 4s - loss: 0.0141 - accuracy: 0.9970 - val_loss: 0.0897 - val_accuracy: 0.9664\n",
            "\n",
            "Epoch 00007: saving model to checkpoints/second_pretrained_random_checkpoint\n",
            "INFO:tensorflow:Assets written to: checkpoints/second_pretrained_random_checkpoint/assets\n",
            "Epoch 8/50\n",
            "104/104 - 4s - loss: 0.0187 - accuracy: 0.9955 - val_loss: 0.1468 - val_accuracy: 0.9536\n",
            "\n",
            "Epoch 00008: saving model to checkpoints/second_pretrained_random_checkpoint\n",
            "INFO:tensorflow:Assets written to: checkpoints/second_pretrained_random_checkpoint/assets\n",
            "Epoch 9/50\n",
            "104/104 - 4s - loss: 0.0658 - accuracy: 0.9833 - val_loss: 0.1483 - val_accuracy: 0.9564\n",
            "\n",
            "Epoch 00009: saving model to checkpoints/second_pretrained_random_checkpoint\n",
            "INFO:tensorflow:Assets written to: checkpoints/second_pretrained_random_checkpoint/assets\n",
            "Epoch 10/50\n",
            "104/104 - 4s - loss: 0.0129 - accuracy: 0.9970 - val_loss: 0.0640 - val_accuracy: 0.9773\n",
            "\n",
            "Epoch 00010: saving model to checkpoints/second_pretrained_random_checkpoint\n",
            "INFO:tensorflow:Assets written to: checkpoints/second_pretrained_random_checkpoint/assets\n",
            "Epoch 11/50\n",
            "104/104 - 4s - loss: 0.0059 - accuracy: 0.9991 - val_loss: 0.0261 - val_accuracy: 0.9936\n",
            "\n",
            "Epoch 00011: saving model to checkpoints/second_pretrained_random_checkpoint\n",
            "INFO:tensorflow:Assets written to: checkpoints/second_pretrained_random_checkpoint/assets\n",
            "Epoch 12/50\n",
            "104/104 - 4s - loss: 0.0032 - accuracy: 1.0000 - val_loss: 0.0551 - val_accuracy: 0.9809\n",
            "\n",
            "Epoch 00012: saving model to checkpoints/second_pretrained_random_checkpoint\n",
            "INFO:tensorflow:Assets written to: checkpoints/second_pretrained_random_checkpoint/assets\n",
            "Epoch 13/50\n",
            "104/104 - 4s - loss: 0.0035 - accuracy: 0.9994 - val_loss: 0.0309 - val_accuracy: 0.9873\n",
            "\n",
            "Epoch 00013: saving model to checkpoints/second_pretrained_random_checkpoint\n",
            "INFO:tensorflow:Assets written to: checkpoints/second_pretrained_random_checkpoint/assets\n",
            "Epoch 14/50\n",
            "104/104 - 4s - loss: 0.0019 - accuracy: 1.0000 - val_loss: 0.0184 - val_accuracy: 0.9936\n",
            "\n",
            "Epoch 00014: saving model to checkpoints/second_pretrained_random_checkpoint\n",
            "INFO:tensorflow:Assets written to: checkpoints/second_pretrained_random_checkpoint/assets\n",
            "Epoch 15/50\n",
            "104/104 - 4s - loss: 0.0010 - accuracy: 1.0000 - val_loss: 0.0172 - val_accuracy: 0.9945\n",
            "\n",
            "Epoch 00015: saving model to checkpoints/second_pretrained_random_checkpoint\n",
            "INFO:tensorflow:Assets written to: checkpoints/second_pretrained_random_checkpoint/assets\n",
            "Epoch 16/50\n",
            "104/104 - 4s - loss: 0.0010 - accuracy: 1.0000 - val_loss: 0.0191 - val_accuracy: 0.9945\n",
            "\n",
            "Epoch 00016: saving model to checkpoints/second_pretrained_random_checkpoint\n",
            "INFO:tensorflow:Assets written to: checkpoints/second_pretrained_random_checkpoint/assets\n",
            "Epoch 17/50\n",
            "104/104 - 4s - loss: 6.7577e-04 - accuracy: 1.0000 - val_loss: 0.0206 - val_accuracy: 0.9945\n",
            "\n",
            "Epoch 00017: saving model to checkpoints/second_pretrained_random_checkpoint\n",
            "INFO:tensorflow:Assets written to: checkpoints/second_pretrained_random_checkpoint/assets\n",
            "Epoch 18/50\n",
            "104/104 - 4s - loss: 7.8278e-04 - accuracy: 1.0000 - val_loss: 0.0166 - val_accuracy: 0.9964\n",
            "\n",
            "Epoch 00018: saving model to checkpoints/second_pretrained_random_checkpoint\n",
            "INFO:tensorflow:Assets written to: checkpoints/second_pretrained_random_checkpoint/assets\n",
            "Epoch 19/50\n",
            "104/104 - 4s - loss: 8.1721e-04 - accuracy: 1.0000 - val_loss: 0.0365 - val_accuracy: 0.9891\n",
            "\n",
            "Epoch 00019: saving model to checkpoints/second_pretrained_random_checkpoint\n",
            "INFO:tensorflow:Assets written to: checkpoints/second_pretrained_random_checkpoint/assets\n",
            "Epoch 20/50\n",
            "104/104 - 4s - loss: 0.0249 - accuracy: 0.9942 - val_loss: 0.2187 - val_accuracy: 0.9364\n",
            "\n",
            "Epoch 00020: saving model to checkpoints/second_pretrained_random_checkpoint\n",
            "INFO:tensorflow:Assets written to: checkpoints/second_pretrained_random_checkpoint/assets\n",
            "Epoch 21/50\n",
            "104/104 - 4s - loss: 0.0270 - accuracy: 0.9927 - val_loss: 0.1171 - val_accuracy: 0.9618\n",
            "\n",
            "Epoch 00021: saving model to checkpoints/second_pretrained_random_checkpoint\n",
            "INFO:tensorflow:Assets written to: checkpoints/second_pretrained_random_checkpoint/assets\n",
            "Epoch 22/50\n",
            "104/104 - 4s - loss: 0.0172 - accuracy: 0.9961 - val_loss: 0.0666 - val_accuracy: 0.9782\n",
            "\n",
            "Epoch 00022: saving model to checkpoints/second_pretrained_random_checkpoint\n",
            "INFO:tensorflow:Assets written to: checkpoints/second_pretrained_random_checkpoint/assets\n",
            "Epoch 23/50\n",
            "104/104 - 4s - loss: 0.0556 - accuracy: 0.9839 - val_loss: 0.1998 - val_accuracy: 0.9427\n",
            "Restoring model weights from the end of the best epoch.\n",
            "\n",
            "Epoch 00023: saving model to checkpoints/second_pretrained_random_checkpoint\n",
            "INFO:tensorflow:Assets written to: checkpoints/second_pretrained_random_checkpoint/assets\n",
            "Epoch 00023: early stopping\n"
          ],
          "name": "stdout"
        }
      ]
    },
    {
      "cell_type": "code",
      "metadata": {
        "id": "KykGZFwbIcju",
        "colab": {
          "base_uri": "https://localhost:8080/"
        },
        "outputId": "bbbf58bc-caed-43b3-d4e8-8a3f5357f814"
      },
      "source": [
        "second_pretrained_random_model.save(\"second_pretrained_random_model.hd5\")"
      ],
      "execution_count": 39,
      "outputs": [
        {
          "output_type": "stream",
          "text": [
            "INFO:tensorflow:Assets written to: second_pretrained_random_model.hd5/assets\n"
          ],
          "name": "stdout"
        }
      ]
    },
    {
      "cell_type": "markdown",
      "metadata": {
        "id": "K3ufg2DWIj7C"
      },
      "source": [
        "###Second Pretrained Random Loss Analysis"
      ]
    },
    {
      "cell_type": "code",
      "metadata": {
        "id": "sBHDUmkNIjYR",
        "colab": {
          "base_uri": "https://localhost:8080/",
          "height": 295
        },
        "outputId": "e4fee67c-218a-4a2b-9343-59aa75450c42"
      },
      "source": [
        "plt.plot(second_pretrained_random_history.history[\"loss\"], label=\"train_loss\")\n",
        "plt.plot(second_pretrained_random_history.history[\"val_loss\"], label=\"val_loss\")\n",
        "plt.title(\"Model Training\")\n",
        "plt.xlabel(\"Epoch #\")\n",
        "plt.ylabel(\"Loss\")\n",
        "plt.legend()\n",
        "plt.savefig(\"images/SecondPretrainedRandomLoss.png\")"
      ],
      "execution_count": 40,
      "outputs": [
        {
          "output_type": "display_data",
          "data": {
            "image/png": "[encoded data removed]",
            "text/plain": [
              "<Figure size 432x288 with 1 Axes>"
            ]
          },
          "metadata": {
            "tags": [],
            "needs_background": "light"
          }
        }
      ]
    },
    {
      "cell_type": "markdown",
      "metadata": {
        "id": "tC8TnjoUIpV0"
      },
      "source": [
        "###Second Pretrained Random Accuracy Analysis"
      ]
    },
    {
      "cell_type": "code",
      "metadata": {
        "id": "X9A65NGlIosV",
        "colab": {
          "base_uri": "https://localhost:8080/",
          "height": 295
        },
        "outputId": "3e709b7c-cb23-4f60-cdba-1242b4c29430"
      },
      "source": [
        "plt.plot(second_pretrained_random_history.history[\"accuracy\"], label=\"train_acc\")\n",
        "plt.plot(second_pretrained_random_history.history[\"val_accuracy\"], label=\"val_acc\")\n",
        "plt.title(\"Model Training\")\n",
        "plt.xlabel(\"Epoch #\")\n",
        "plt.ylabel(\"Accuracy\")\n",
        "plt.legend()\n",
        "plt.savefig(\"images/SecondPretrainedRandomAccuracy.png\")"
      ],
      "execution_count": 41,
      "outputs": [
        {
          "output_type": "display_data",
          "data": {
            "image/png": "[encoded data removed]",
            "text/plain": [
              "<Figure size 432x288 with 1 Axes>"
            ]
          },
          "metadata": {
            "tags": [],
            "needs_background": "light"
          }
        }
      ]
    },
    {
      "cell_type": "markdown",
      "metadata": {
        "id": "SOvAIAkLsk49"
      },
      "source": [
        "###Import MNIST Dataset"
      ]
    },
    {
      "cell_type": "code",
      "metadata": {
        "id": "B09wlCBmspV5",
        "colab": {
          "base_uri": "https://localhost:8080/"
        },
        "outputId": "0c427199-aa77-453e-e95d-26109a9c569c"
      },
      "source": [
        "!pip install python-mnist"
      ],
      "execution_count": 42,
      "outputs": [
        {
          "output_type": "stream",
          "text": [
            "Requirement already satisfied: python-mnist in /usr/local/lib/python3.7/dist-packages (0.7)\n"
          ],
          "name": "stdout"
        }
      ]
    },
    {
      "cell_type": "code",
      "metadata": {
        "id": "eNu5VUCbs18s"
      },
      "source": [
        "mndata = MNIST(\"samples\")\n",
        "X_train_mnist, Y_train_mnist = mndata.load_training()\n",
        "X_test_mnist, Y_test_mnist = mndata.load_testing()"
      ],
      "execution_count": 43,
      "outputs": []
    },
    {
      "cell_type": "code",
      "metadata": {
        "id": "Pwh88UC_s1_G"
      },
      "source": [
        "X_train_mnist = np.array(X_train_mnist)\n",
        "Y_train_mnist = np.array(Y_train_mnist)\n",
        "X_test_mnist = np.array(X_test_mnist)\n",
        "Y_test_mnist = np.array(Y_test_mnist)"
      ],
      "execution_count": 44,
      "outputs": []
    },
    {
      "cell_type": "code",
      "metadata": {
        "id": "cPmfMNHrs2HF"
      },
      "source": [
        "X_train_mnist = X_train_mnist.reshape(60000, 28, 28)\n",
        "X_test_mnist = X_test_mnist.reshape(10000, 28, 28)\n",
        "Y_train_mnist = Y_train_mnist.reshape(-1, 1)\n",
        "Y_test_mnist = Y_test_mnist.reshape(-1, 1)"
      ],
      "execution_count": 45,
      "outputs": []
    },
    {
      "cell_type": "code",
      "metadata": {
        "id": "cU3YAU-Js2B6",
        "colab": {
          "base_uri": "https://localhost:8080/"
        },
        "outputId": "e2a7e91d-1ce9-4093-bd7e-e1f9c096548e"
      },
      "source": [
        "X_train_mnist.shape"
      ],
      "execution_count": 46,
      "outputs": [
        {
          "output_type": "execute_result",
          "data": {
            "text/plain": [
              "(60000, 28, 28)"
            ]
          },
          "metadata": {
            "tags": []
          },
          "execution_count": 46
        }
      ]
    },
    {
      "cell_type": "code",
      "metadata": {
        "id": "bFoJ8Wn4s2Ea",
        "colab": {
          "base_uri": "https://localhost:8080/"
        },
        "outputId": "8e22b222-2f93-49ca-db21-f1461c4af0b7"
      },
      "source": [
        "Y_train_mnist.shape"
      ],
      "execution_count": 47,
      "outputs": [
        {
          "output_type": "execute_result",
          "data": {
            "text/plain": [
              "(60000, 1)"
            ]
          },
          "metadata": {
            "tags": []
          },
          "execution_count": 47
        }
      ]
    },
    {
      "cell_type": "code",
      "metadata": {
        "id": "QyBRxLEc2CCH"
      },
      "source": [
        "from sklearn.preprocessing import OneHotEncoder\n",
        "encoder_mnist = OneHotEncoder(sparse=False)\n",
        "Y_train_mnist = encoder_mnist.fit_transform(Y_train_mnist)\n",
        "Y_test_mnist = encoder_mnist.transform(Y_test_mnist)"
      ],
      "execution_count": 48,
      "outputs": []
    },
    {
      "cell_type": "code",
      "metadata": {
        "id": "6gh9NBU1s2Jd"
      },
      "source": [
        "X_train_mnist, X_val_mnist, Y_train_mnist, Y_val_mnist = train_test_split(X_train_mnist, Y_train_mnist)"
      ],
      "execution_count": 49,
      "outputs": []
    },
    {
      "cell_type": "code",
      "metadata": {
        "id": "FfqdTp9i9Ptl"
      },
      "source": [
        "X_train_new = np.zeros((X_train_mnist.shape[0], X_train_mnist.shape[1], X_train_mnist.shape[2], 3))\n",
        "for i in range(X_train_mnist.shape[0]):\n",
        "  X_train_new[i, :, :, :] = np.stack((X_train_mnist[i, :, :],)*3, axis=-1)"
      ],
      "execution_count": 50,
      "outputs": []
    },
    {
      "cell_type": "code",
      "metadata": {
        "id": "6-LJJVZZ-QzS"
      },
      "source": [
        "X_train_mnist = np.zeros(X_train_new.shape)\n",
        "X_train_mnist = X_train_new"
      ],
      "execution_count": 51,
      "outputs": []
    },
    {
      "cell_type": "code",
      "metadata": {
        "id": "zXaCjPgb-avL"
      },
      "source": [
        "X_val_new = np.zeros((X_val_mnist.shape[0], X_val_mnist.shape[1], X_val_mnist.shape[2], 3))\n",
        "for i in range(X_val_mnist.shape[0]):\n",
        "  X_val_new[i, :, :, :] = np.stack((X_val_mnist[i, :, :],)*3, axis=-1)"
      ],
      "execution_count": 52,
      "outputs": []
    },
    {
      "cell_type": "code",
      "metadata": {
        "id": "ijbk4-iX-cKk"
      },
      "source": [
        "X_val_mnist = np.zeros(X_val_new.shape)\n",
        "X_val_mnist = X_val_new"
      ],
      "execution_count": 53,
      "outputs": []
    },
    {
      "cell_type": "markdown",
      "metadata": {
        "id": "u1HBszTVy2zd"
      },
      "source": [
        "###Second MNIST Pretrained Model"
      ]
    },
    {
      "cell_type": "code",
      "metadata": {
        "id": "wL-pLo_gs2Lt"
      },
      "source": [
        "lee_mnist = clone_model(second_pretrained_model_mnist)\n",
        "lee_mnist.set_weights(second_pretrained_model_mnist.get_weights())"
      ],
      "execution_count": 54,
      "outputs": []
    },
    {
      "cell_type": "code",
      "metadata": {
        "id": "tKx32UNAsu7x",
        "colab": {
          "base_uri": "https://localhost:8080/"
        },
        "outputId": "62f3b51e-69d1-431e-912c-a9cc09411db7"
      },
      "source": [
        "lee_mnist.summary()"
      ],
      "execution_count": 55,
      "outputs": [
        {
          "output_type": "stream",
          "text": [
            "Model: \"sequential_1\"\n",
            "_________________________________________________________________\n",
            "Layer (type)                 Output Shape              Param #   \n",
            "=================================================================\n",
            "conv2d (Conv2D)              (None, 26, 26, 32)        896       \n",
            "_________________________________________________________________\n",
            "max_pooling2d (MaxPooling2D) (None, 13, 13, 32)        0         \n",
            "_________________________________________________________________\n",
            "conv2d_1 (Conv2D)            (None, 9, 9, 64)          51264     \n",
            "_________________________________________________________________\n",
            "max_pooling2d_1 (MaxPooling2 (None, 4, 4, 64)          0         \n",
            "_________________________________________________________________\n",
            "conv2d_2 (Conv2D)            (None, 2, 2, 128)         73856     \n",
            "_________________________________________________________________\n",
            "max_pooling2d_2 (MaxPooling2 (None, 1, 1, 128)         0         \n",
            "_________________________________________________________________\n",
            "flatten (Flatten)            (None, 128)               0         \n",
            "_________________________________________________________________\n",
            "dense (Dense)                (None, 256)               33024     \n",
            "_________________________________________________________________\n",
            "batch_normalization (BatchNo (None, 256)               1024      \n",
            "_________________________________________________________________\n",
            "dropout (Dropout)            (None, 256)               0         \n",
            "_________________________________________________________________\n",
            "dense_2 (Dense)              (None, 10)                2570      \n",
            "=================================================================\n",
            "Total params: 162,634\n",
            "Trainable params: 162,122\n",
            "Non-trainable params: 512\n",
            "_________________________________________________________________\n"
          ],
          "name": "stdout"
        }
      ]
    },
    {
      "cell_type": "code",
      "metadata": {
        "id": "zbVOLw9x5Bv9"
      },
      "source": [
        "lee_mnist.compile(optimizer=\"adam\", loss=\"categorical_crossentropy\", metrics=[\"accuracy\"])"
      ],
      "execution_count": 56,
      "outputs": []
    },
    {
      "cell_type": "code",
      "metadata": {
        "id": "LTHACvNWr_QO"
      },
      "source": [
        "lee_mnist_checkpoint = ModelCheckpoint(\"checkpoints/lee_mnist_checkpoint\", monitor=\"val_accuracy\", verbose = 2, save_best_only = False, save_weights_only = False)"
      ],
      "execution_count": 57,
      "outputs": []
    },
    {
      "cell_type": "code",
      "metadata": {
        "id": "e564UUby60Zl",
        "colab": {
          "base_uri": "https://localhost:8080/"
        },
        "outputId": "e202f072-644b-4a33-a2a8-70f9009f3dc2"
      },
      "source": [
        "second_mnist_history = lee_mnist.fit(X_train_mnist, Y_train_mnist, epochs=50, validation_data=(X_val_mnist, Y_val_mnist), callbacks=[early, lee_mnist_checkpoint], batch_size = 32)"
      ],
      "execution_count": 58,
      "outputs": [
        {
          "output_type": "stream",
          "text": [
            "Epoch 1/50\n",
            "1407/1407 [==============================] - 54s 38ms/step - loss: 0.1487 - accuracy: 0.9540 - val_loss: 0.0674 - val_accuracy: 0.9796\n",
            "\n",
            "Epoch 00001: saving model to checkpoints/lee_mnist_checkpoint\n",
            "INFO:tensorflow:Assets written to: checkpoints/lee_mnist_checkpoint/assets\n",
            "Epoch 2/50\n",
            "1407/1407 [==============================] - 53s 38ms/step - loss: 0.0388 - accuracy: 0.9869 - val_loss: 0.0464 - val_accuracy: 0.9870\n",
            "\n",
            "Epoch 00002: saving model to checkpoints/lee_mnist_checkpoint\n",
            "INFO:tensorflow:Assets written to: checkpoints/lee_mnist_checkpoint/assets\n",
            "Epoch 3/50\n",
            "1407/1407 [==============================] - 53s 38ms/step - loss: 0.0267 - accuracy: 0.9913 - val_loss: 0.0453 - val_accuracy: 0.9875\n",
            "\n",
            "Epoch 00003: saving model to checkpoints/lee_mnist_checkpoint\n",
            "INFO:tensorflow:Assets written to: checkpoints/lee_mnist_checkpoint/assets\n",
            "Epoch 4/50\n",
            "1407/1407 [==============================] - 54s 38ms/step - loss: 0.0232 - accuracy: 0.9925 - val_loss: 0.1035 - val_accuracy: 0.9900\n",
            "\n",
            "Epoch 00004: saving model to checkpoints/lee_mnist_checkpoint\n",
            "INFO:tensorflow:Assets written to: checkpoints/lee_mnist_checkpoint/assets\n",
            "Epoch 5/50\n",
            "1407/1407 [==============================] - 54s 38ms/step - loss: 0.0161 - accuracy: 0.9947 - val_loss: 0.0491 - val_accuracy: 0.9875\n",
            "\n",
            "Epoch 00005: saving model to checkpoints/lee_mnist_checkpoint\n",
            "INFO:tensorflow:Assets written to: checkpoints/lee_mnist_checkpoint/assets\n",
            "Epoch 6/50\n",
            "1407/1407 [==============================] - 53s 38ms/step - loss: 0.0157 - accuracy: 0.9949 - val_loss: 0.0631 - val_accuracy: 0.9833\n",
            "\n",
            "Epoch 00006: saving model to checkpoints/lee_mnist_checkpoint\n",
            "INFO:tensorflow:Assets written to: checkpoints/lee_mnist_checkpoint/assets\n",
            "Epoch 7/50\n",
            "1407/1407 [==============================] - 54s 38ms/step - loss: 0.0129 - accuracy: 0.9960 - val_loss: 0.0414 - val_accuracy: 0.9877\n",
            "\n",
            "Epoch 00007: saving model to checkpoints/lee_mnist_checkpoint\n",
            "INFO:tensorflow:Assets written to: checkpoints/lee_mnist_checkpoint/assets\n",
            "Epoch 8/50\n",
            "1407/1407 [==============================] - 54s 38ms/step - loss: 0.0096 - accuracy: 0.9972 - val_loss: 0.0869 - val_accuracy: 0.9888\n",
            "\n",
            "Epoch 00008: saving model to checkpoints/lee_mnist_checkpoint\n",
            "INFO:tensorflow:Assets written to: checkpoints/lee_mnist_checkpoint/assets\n",
            "Epoch 9/50\n",
            "1407/1407 [==============================] - 54s 38ms/step - loss: 0.0085 - accuracy: 0.9976 - val_loss: 0.0357 - val_accuracy: 0.9919\n",
            "\n",
            "Epoch 00009: saving model to checkpoints/lee_mnist_checkpoint\n",
            "INFO:tensorflow:Assets written to: checkpoints/lee_mnist_checkpoint/assets\n",
            "Epoch 10/50\n",
            "1407/1407 [==============================] - 54s 38ms/step - loss: 0.0081 - accuracy: 0.9976 - val_loss: 0.0991 - val_accuracy: 0.9853\n",
            "\n",
            "Epoch 00010: saving model to checkpoints/lee_mnist_checkpoint\n",
            "INFO:tensorflow:Assets written to: checkpoints/lee_mnist_checkpoint/assets\n",
            "Epoch 11/50\n",
            "1407/1407 [==============================] - 54s 38ms/step - loss: 0.0095 - accuracy: 0.9974 - val_loss: 0.0498 - val_accuracy: 0.9875\n",
            "\n",
            "Epoch 00011: saving model to checkpoints/lee_mnist_checkpoint\n",
            "INFO:tensorflow:Assets written to: checkpoints/lee_mnist_checkpoint/assets\n",
            "Epoch 12/50\n",
            "1407/1407 [==============================] - 54s 38ms/step - loss: 0.0065 - accuracy: 0.9976 - val_loss: 0.1127 - val_accuracy: 0.9871\n",
            "\n",
            "Epoch 00012: saving model to checkpoints/lee_mnist_checkpoint\n",
            "INFO:tensorflow:Assets written to: checkpoints/lee_mnist_checkpoint/assets\n",
            "Epoch 13/50\n",
            "1407/1407 [==============================] - 54s 38ms/step - loss: 0.0068 - accuracy: 0.9975 - val_loss: 0.2681 - val_accuracy: 0.9887\n",
            "\n",
            "Epoch 00013: saving model to checkpoints/lee_mnist_checkpoint\n",
            "INFO:tensorflow:Assets written to: checkpoints/lee_mnist_checkpoint/assets\n",
            "Epoch 14/50\n",
            "1407/1407 [==============================] - 54s 38ms/step - loss: 0.0054 - accuracy: 0.9985 - val_loss: 0.1241 - val_accuracy: 0.9894\n",
            "Restoring model weights from the end of the best epoch.\n",
            "\n",
            "Epoch 00014: saving model to checkpoints/lee_mnist_checkpoint\n",
            "INFO:tensorflow:Assets written to: checkpoints/lee_mnist_checkpoint/assets\n",
            "Epoch 00014: early stopping\n"
          ],
          "name": "stdout"
        }
      ]
    },
    {
      "cell_type": "code",
      "metadata": {
        "id": "tFBSfy8ss6X1",
        "colab": {
          "base_uri": "https://localhost:8080/"
        },
        "outputId": "666ff3c9-d371-4625-f577-dd5c0474a27e"
      },
      "source": [
        "lee_mnist.save(\"second_mnist_history.hd5\")"
      ],
      "execution_count": 59,
      "outputs": [
        {
          "output_type": "stream",
          "text": [
            "INFO:tensorflow:Assets written to: second_mnist_history.hd5/assets\n"
          ],
          "name": "stdout"
        }
      ]
    },
    {
      "cell_type": "markdown",
      "metadata": {
        "id": "Vus1eq5gzA3S"
      },
      "source": [
        "###Second MNIST Pretrained Loss Analysis"
      ]
    },
    {
      "cell_type": "code",
      "metadata": {
        "id": "MrA8fxsgtDfB",
        "colab": {
          "base_uri": "https://localhost:8080/",
          "height": 295
        },
        "outputId": "df22664b-4a6a-4433-cdf7-36aff7d83294"
      },
      "source": [
        "plt.plot(second_mnist_history.history[\"loss\"], label=\"train_loss\")\n",
        "plt.plot(second_mnist_history.history[\"val_loss\"], label=\"val_loss\")\n",
        "plt.title(\"Model Training\")\n",
        "plt.xlabel(\"Epoch #\")\n",
        "plt.ylabel(\"Loss\")\n",
        "plt.legend()\n",
        "plt.savefig(\"images/SecondMNISTLoss.png\")"
      ],
      "execution_count": 60,
      "outputs": [
        {
          "output_type": "display_data",
          "data": {
            "image/png": "[encoded data removed]",
            "text/plain": [
              "<Figure size 432x288 with 1 Axes>"
            ]
          },
          "metadata": {
            "tags": [],
            "needs_background": "light"
          }
        }
      ]
    },
    {
      "cell_type": "markdown",
      "metadata": {
        "id": "-RYObiqyzEps"
      },
      "source": [
        "###Second MNIST Pretrained Accuracy Analysis"
      ]
    },
    {
      "cell_type": "code",
      "metadata": {
        "id": "8xwvrOjstMPH",
        "colab": {
          "base_uri": "https://localhost:8080/",
          "height": 295
        },
        "outputId": "9aacb4e0-9d30-42c5-b567-9125852a0ce4"
      },
      "source": [
        "plt.plot(second_mnist_history.history[\"accuracy\"], label=\"train_acc\")\n",
        "plt.plot(second_mnist_history.history[\"val_accuracy\"], label=\"val_acc\")\n",
        "plt.title(\"Model Training\")\n",
        "plt.xlabel(\"Epoch #\")\n",
        "plt.ylabel(\"Accuracy\")\n",
        "plt.legend()\n",
        "plt.savefig(\"images/SecondMNISTAccuracy.png\")"
      ],
      "execution_count": 61,
      "outputs": [
        {
          "output_type": "display_data",
          "data": {
            "image/png": "[encoded data removed]",
            "text/plain": [
              "<Figure size 432x288 with 1 Axes>"
            ]
          },
          "metadata": {
            "tags": [],
            "needs_background": "light"
          }
        }
      ]
    },
    {
      "cell_type": "code",
      "metadata": {
        "id": "o8nF6IbS_ztc"
      },
      "source": [
        "X_test_new = np.zeros((X_test_mnist.shape[0], X_test_mnist.shape[1], X_test_mnist.shape[2], 3))\n",
        "for i in range(X_test_mnist.shape[0]):\n",
        "  X_test_new[i, :, :, :] = np.stack((X_test_mnist[i, :, :],)*3, axis=-1)"
      ],
      "execution_count": 62,
      "outputs": []
    },
    {
      "cell_type": "code",
      "metadata": {
        "id": "ep9cP7oq_z2y"
      },
      "source": [
        "X_test_mnist = np.zeros(X_test_new.shape)\n",
        "X_test_mnist = X_test_new"
      ],
      "execution_count": 63,
      "outputs": []
    },
    {
      "cell_type": "code",
      "metadata": {
        "id": "59lQr1RvADf0",
        "colab": {
          "base_uri": "https://localhost:8080/"
        },
        "outputId": "205e1587-3324-4f64-928b-fbcf96a64339"
      },
      "source": [
        "X_test_mnist.shape"
      ],
      "execution_count": 64,
      "outputs": [
        {
          "output_type": "execute_result",
          "data": {
            "text/plain": [
              "(10000, 28, 28, 3)"
            ]
          },
          "metadata": {
            "tags": []
          },
          "execution_count": 64
        }
      ]
    },
    {
      "cell_type": "code",
      "metadata": {
        "id": "9loHcsbUALfP",
        "colab": {
          "base_uri": "https://localhost:8080/"
        },
        "outputId": "c82fcc5c-096c-4982-a444-c195c35aae9c"
      },
      "source": [
        "Y_test_mnist.shape"
      ],
      "execution_count": 65,
      "outputs": [
        {
          "output_type": "execute_result",
          "data": {
            "text/plain": [
              "(10000, 10)"
            ]
          },
          "metadata": {
            "tags": []
          },
          "execution_count": 65
        }
      ]
    },
    {
      "cell_type": "code",
      "metadata": {
        "id": "c36inSlZALh9",
        "colab": {
          "base_uri": "https://localhost:8080/"
        },
        "outputId": "ebe1f291-5146-43fe-8b30-fc12285215cf"
      },
      "source": [
        "lee_mnist.evaluate(X_test_mnist, Y_test_mnist, batch_size=32, verbose = 2)"
      ],
      "execution_count": 66,
      "outputs": [
        {
          "output_type": "stream",
          "text": [
            "313/313 - 3s - loss: 0.0315 - accuracy: 0.9922\n"
          ],
          "name": "stdout"
        },
        {
          "output_type": "execute_result",
          "data": {
            "text/plain": [
              "[0.03154076263308525, 0.9922000169754028]"
            ]
          },
          "metadata": {
            "tags": []
          },
          "execution_count": 66
        }
      ]
    },
    {
      "cell_type": "code",
      "metadata": {
        "id": "jVLtPcQU-eus"
      },
      "source": [
        "Y_test_mnist_max = np.argmax(Y_test_mnist, axis = 1)"
      ],
      "execution_count": 67,
      "outputs": []
    },
    {
      "cell_type": "code",
      "metadata": {
        "id": "VS03vZFkpqPa",
        "colab": {
          "base_uri": "https://localhost:8080/",
          "height": 651
        },
        "outputId": "92c97c63-bd07-4547-907a-8490e5f27fd5"
      },
      "source": [
        "Y_pred_lee_mnist = lee_mnist.predict_classes(X_test_mnist)\n",
        "lee_mnist_cm = confusion_matrix(Y_test_mnist_max, Y_pred_lee_mnist)\n",
        "lee_mnist_cm = pd.DataFrame(lee_mnist_cm)\n",
        "plt.figure(figsize=(10, 10))\n",
        "sn.set(font_scale=1.0)\n",
        "sn.heatmap(lee_mnist_cm, annot=True, annot_kws={\"size\": 10})\n",
        "plt.show()"
      ],
      "execution_count": 68,
      "outputs": [
        {
          "output_type": "stream",
          "text": [
            "/usr/local/lib/python3.7/dist-packages/tensorflow/python/keras/engine/sequential.py:450: UserWarning: `model.predict_classes()` is deprecated and will be removed after 2021-01-01. Please use instead:* `np.argmax(model.predict(x), axis=-1)`,   if your model does multi-class classification   (e.g. if it uses a `softmax` last-layer activation).* `(model.predict(x) > 0.5).astype(\"int32\")`,   if your model does binary classification   (e.g. if it uses a `sigmoid` last-layer activation).\n",
            "  warnings.warn('`model.predict_classes()` is deprecated and '\n"
          ],
          "name": "stderr"
        },
        {
          "output_type": "display_data",
          "data": {
            "image/png": "[encoded data removed]",
            "text/plain": [
              "<Figure size 720x720 with 2 Axes>"
            ]
          },
          "metadata": {
            "tags": [],
            "needs_background": "light"
          }
        }
      ]
    },
    {
      "cell_type": "markdown",
      "metadata": {
        "id": "LVHGlUd3_ZRv"
      },
      "source": [
        "### Second MNIST Random Model"
      ]
    },
    {
      "cell_type": "code",
      "metadata": {
        "id": "P3aXrSd8_eW7",
        "colab": {
          "base_uri": "https://localhost:8080/"
        },
        "outputId": "2cab46a8-e10c-4d10-e816-4dfa0983abb8"
      },
      "source": [
        "second_random_model = Sequential()\n",
        "second_random_model.add(Conv2D(32, kernel_size = (3, 3), activation=\"relu\", input_shape=(28, 28, 3)))\n",
        "second_random_model.add(MaxPooling2D())\n",
        "second_random_model.add(Conv2D(64, activation=\"relu\", kernel_size=(5, 5)))\n",
        "second_random_model.add(MaxPooling2D())\n",
        "second_random_model.add(Conv2D(128, activation=\"relu\", kernel_size=(3, 3)))\n",
        "second_random_model.add(MaxPooling2D())\n",
        "second_random_model.add(Flatten())\n",
        "second_random_model.add(Dense(256, activation=\"relu\"))\n",
        "second_random_model.add(BatchNormalization())\n",
        "second_random_model.add(Dropout(0.2))\n",
        "second_random_model.add(Dense(10, activation=\"softmax\"))\n",
        "second_random_model.compile(optimizer = 'adam', loss = 'categorical_crossentropy', metrics = ['accuracy'])\n",
        "second_random_model.summary()"
      ],
      "execution_count": 69,
      "outputs": [
        {
          "output_type": "stream",
          "text": [
            "Model: \"sequential_3\"\n",
            "_________________________________________________________________\n",
            "Layer (type)                 Output Shape              Param #   \n",
            "=================================================================\n",
            "conv2d_6 (Conv2D)            (None, 26, 26, 32)        896       \n",
            "_________________________________________________________________\n",
            "max_pooling2d_6 (MaxPooling2 (None, 13, 13, 32)        0         \n",
            "_________________________________________________________________\n",
            "conv2d_7 (Conv2D)            (None, 9, 9, 64)          51264     \n",
            "_________________________________________________________________\n",
            "max_pooling2d_7 (MaxPooling2 (None, 4, 4, 64)          0         \n",
            "_________________________________________________________________\n",
            "conv2d_8 (Conv2D)            (None, 2, 2, 128)         73856     \n",
            "_________________________________________________________________\n",
            "max_pooling2d_8 (MaxPooling2 (None, 1, 1, 128)         0         \n",
            "_________________________________________________________________\n",
            "flatten_2 (Flatten)          (None, 128)               0         \n",
            "_________________________________________________________________\n",
            "dense_5 (Dense)              (None, 256)               33024     \n",
            "_________________________________________________________________\n",
            "batch_normalization_2 (Batch (None, 256)               1024      \n",
            "_________________________________________________________________\n",
            "dropout_2 (Dropout)          (None, 256)               0         \n",
            "_________________________________________________________________\n",
            "dense_6 (Dense)              (None, 10)                2570      \n",
            "=================================================================\n",
            "Total params: 162,634\n",
            "Trainable params: 162,122\n",
            "Non-trainable params: 512\n",
            "_________________________________________________________________\n"
          ],
          "name": "stdout"
        }
      ]
    },
    {
      "cell_type": "code",
      "metadata": {
        "id": "622tInd6sXXR"
      },
      "source": [
        "second_random_checkpoint = ModelCheckpoint(\"checkpoints/second_random_checkpoint\", monitor=\"val_accuracy\", verbose = 2, save_best_only = False, save_weights_only = False)"
      ],
      "execution_count": 70,
      "outputs": []
    },
    {
      "cell_type": "code",
      "metadata": {
        "id": "NPZ1b3dEAdZN",
        "colab": {
          "base_uri": "https://localhost:8080/"
        },
        "outputId": "217404c5-9636-42a2-ec48-3ca1a9362fd7"
      },
      "source": [
        "second_mnist_random_history = second_random_model.fit(X_train_mnist, Y_train_mnist, epochs=50, batch_size=32, validation_data=(X_val_mnist, Y_val_mnist), callbacks=[early, second_random_checkpoint])"
      ],
      "execution_count": 71,
      "outputs": [
        {
          "output_type": "stream",
          "text": [
            "Epoch 1/50\n",
            "1407/1407 [==============================] - 54s 38ms/step - loss: 0.2871 - accuracy: 0.9110 - val_loss: 0.1721 - val_accuracy: 0.9479\n",
            "\n",
            "Epoch 00001: saving model to checkpoints/second_random_checkpoint\n",
            "INFO:tensorflow:Assets written to: checkpoints/second_random_checkpoint/assets\n",
            "Epoch 2/50\n",
            "1407/1407 [==============================] - 54s 38ms/step - loss: 0.0749 - accuracy: 0.9769 - val_loss: 0.1713 - val_accuracy: 0.9398\n",
            "\n",
            "Epoch 00002: saving model to checkpoints/second_random_checkpoint\n",
            "INFO:tensorflow:Assets written to: checkpoints/second_random_checkpoint/assets\n",
            "Epoch 3/50\n",
            "1407/1407 [==============================] - 53s 38ms/step - loss: 0.0399 - accuracy: 0.9876 - val_loss: 0.0600 - val_accuracy: 0.9820\n",
            "\n",
            "Epoch 00003: saving model to checkpoints/second_random_checkpoint\n",
            "INFO:tensorflow:Assets written to: checkpoints/second_random_checkpoint/assets\n",
            "Epoch 4/50\n",
            "1407/1407 [==============================] - 53s 38ms/step - loss: 0.0291 - accuracy: 0.9915 - val_loss: 0.0676 - val_accuracy: 0.9814\n",
            "\n",
            "Epoch 00004: saving model to checkpoints/second_random_checkpoint\n",
            "INFO:tensorflow:Assets written to: checkpoints/second_random_checkpoint/assets\n",
            "Epoch 5/50\n",
            "1407/1407 [==============================] - 53s 38ms/step - loss: 0.0286 - accuracy: 0.9912 - val_loss: 0.0487 - val_accuracy: 0.9873\n",
            "\n",
            "Epoch 00005: saving model to checkpoints/second_random_checkpoint\n",
            "INFO:tensorflow:Assets written to: checkpoints/second_random_checkpoint/assets\n",
            "Epoch 6/50\n",
            "1407/1407 [==============================] - 53s 38ms/step - loss: 0.0209 - accuracy: 0.9937 - val_loss: 0.0755 - val_accuracy: 0.9790\n",
            "\n",
            "Epoch 00006: saving model to checkpoints/second_random_checkpoint\n",
            "INFO:tensorflow:Assets written to: checkpoints/second_random_checkpoint/assets\n",
            "Epoch 7/50\n",
            "1407/1407 [==============================] - 54s 38ms/step - loss: 0.0210 - accuracy: 0.9933 - val_loss: 0.0633 - val_accuracy: 0.9827\n",
            "\n",
            "Epoch 00007: saving model to checkpoints/second_random_checkpoint\n",
            "INFO:tensorflow:Assets written to: checkpoints/second_random_checkpoint/assets\n",
            "Epoch 8/50\n",
            "1407/1407 [==============================] - 54s 38ms/step - loss: 0.0133 - accuracy: 0.9959 - val_loss: 0.1015 - val_accuracy: 0.9817\n",
            "\n",
            "Epoch 00008: saving model to checkpoints/second_random_checkpoint\n",
            "INFO:tensorflow:Assets written to: checkpoints/second_random_checkpoint/assets\n",
            "Epoch 9/50\n",
            "1407/1407 [==============================] - 54s 38ms/step - loss: 0.0136 - accuracy: 0.9955 - val_loss: 0.0861 - val_accuracy: 0.9876\n",
            "\n",
            "Epoch 00009: saving model to checkpoints/second_random_checkpoint\n",
            "INFO:tensorflow:Assets written to: checkpoints/second_random_checkpoint/assets\n",
            "Epoch 10/50\n",
            "1407/1407 [==============================] - 53s 38ms/step - loss: 0.0137 - accuracy: 0.9954 - val_loss: 0.0457 - val_accuracy: 0.9884\n",
            "\n",
            "Epoch 00010: saving model to checkpoints/second_random_checkpoint\n",
            "INFO:tensorflow:Assets written to: checkpoints/second_random_checkpoint/assets\n",
            "Epoch 11/50\n",
            "1407/1407 [==============================] - 54s 38ms/step - loss: 0.0119 - accuracy: 0.9959 - val_loss: 0.0462 - val_accuracy: 0.9889\n",
            "\n",
            "Epoch 00011: saving model to checkpoints/second_random_checkpoint\n",
            "INFO:tensorflow:Assets written to: checkpoints/second_random_checkpoint/assets\n",
            "Epoch 12/50\n",
            "1407/1407 [==============================] - 53s 38ms/step - loss: 0.0153 - accuracy: 0.9950 - val_loss: 0.0411 - val_accuracy: 0.9899\n",
            "\n",
            "Epoch 00012: saving model to checkpoints/second_random_checkpoint\n",
            "INFO:tensorflow:Assets written to: checkpoints/second_random_checkpoint/assets\n",
            "Epoch 13/50\n",
            "1407/1407 [==============================] - 54s 38ms/step - loss: 0.0054 - accuracy: 0.9985 - val_loss: 0.0467 - val_accuracy: 0.9890\n",
            "\n",
            "Epoch 00013: saving model to checkpoints/second_random_checkpoint\n",
            "INFO:tensorflow:Assets written to: checkpoints/second_random_checkpoint/assets\n",
            "Epoch 14/50\n",
            "1407/1407 [==============================] - 54s 38ms/step - loss: 0.0081 - accuracy: 0.9974 - val_loss: 0.1847 - val_accuracy: 0.9705\n",
            "\n",
            "Epoch 00014: saving model to checkpoints/second_random_checkpoint\n",
            "INFO:tensorflow:Assets written to: checkpoints/second_random_checkpoint/assets\n",
            "Epoch 15/50\n",
            "1407/1407 [==============================] - 54s 38ms/step - loss: 0.0143 - accuracy: 0.9949 - val_loss: 0.0565 - val_accuracy: 0.9900\n",
            "\n",
            "Epoch 00015: saving model to checkpoints/second_random_checkpoint\n",
            "INFO:tensorflow:Assets written to: checkpoints/second_random_checkpoint/assets\n",
            "Epoch 16/50\n",
            "1407/1407 [==============================] - 54s 38ms/step - loss: 0.0050 - accuracy: 0.9986 - val_loss: 0.2104 - val_accuracy: 0.9885\n",
            "\n",
            "Epoch 00016: saving model to checkpoints/second_random_checkpoint\n",
            "INFO:tensorflow:Assets written to: checkpoints/second_random_checkpoint/assets\n",
            "Epoch 17/50\n",
            "1407/1407 [==============================] - 54s 38ms/step - loss: 0.0047 - accuracy: 0.9985 - val_loss: 0.0863 - val_accuracy: 0.9889\n",
            "\n",
            "Epoch 00017: saving model to checkpoints/second_random_checkpoint\n",
            "INFO:tensorflow:Assets written to: checkpoints/second_random_checkpoint/assets\n",
            "Epoch 18/50\n",
            "1407/1407 [==============================] - 54s 38ms/step - loss: 0.0076 - accuracy: 0.9971 - val_loss: 0.1313 - val_accuracy: 0.9879\n",
            "\n",
            "Epoch 00018: saving model to checkpoints/second_random_checkpoint\n",
            "INFO:tensorflow:Assets written to: checkpoints/second_random_checkpoint/assets\n",
            "Epoch 19/50\n",
            "1407/1407 [==============================] - 54s 38ms/step - loss: 0.0055 - accuracy: 0.9981 - val_loss: 0.0475 - val_accuracy: 0.9897\n",
            "\n",
            "Epoch 00019: saving model to checkpoints/second_random_checkpoint\n",
            "INFO:tensorflow:Assets written to: checkpoints/second_random_checkpoint/assets\n",
            "Epoch 20/50\n",
            "1407/1407 [==============================] - 54s 38ms/step - loss: 0.0046 - accuracy: 0.9984 - val_loss: 0.0681 - val_accuracy: 0.9895\n",
            "Restoring model weights from the end of the best epoch.\n",
            "\n",
            "Epoch 00020: saving model to checkpoints/second_random_checkpoint\n",
            "INFO:tensorflow:Assets written to: checkpoints/second_random_checkpoint/assets\n",
            "Epoch 00020: early stopping\n"
          ],
          "name": "stdout"
        }
      ]
    },
    {
      "cell_type": "code",
      "metadata": {
        "id": "mSDpKP0ctf9F",
        "colab": {
          "base_uri": "https://localhost:8080/"
        },
        "outputId": "96021146-686c-4efb-d0ed-a1a9b350826a"
      },
      "source": [
        "second_random_model.save(\"second_random_model.hd5\")"
      ],
      "execution_count": 72,
      "outputs": [
        {
          "output_type": "stream",
          "text": [
            "INFO:tensorflow:Assets written to: second_random_model.hd5/assets\n"
          ],
          "name": "stdout"
        }
      ]
    },
    {
      "cell_type": "markdown",
      "metadata": {
        "id": "iii6XgZOzRuY"
      },
      "source": [
        "###Second MNIST Random Loss Analysis"
      ]
    },
    {
      "cell_type": "code",
      "metadata": {
        "id": "orjDgLcStgFK",
        "colab": {
          "base_uri": "https://localhost:8080/",
          "height": 301
        },
        "outputId": "2f339dd6-6a12-41e6-e497-a9bf580b316b"
      },
      "source": [
        "plt.plot(second_mnist_random_history.history[\"loss\"], label=\"train_loss\")\n",
        "plt.plot(second_mnist_random_history.history[\"val_loss\"], label=\"val_loss\")\n",
        "plt.title(\"Model Training\")\n",
        "plt.xlabel(\"Epoch #\")\n",
        "plt.ylabel(\"Loss\")\n",
        "plt.legend()\n",
        "plt.savefig(\"images/SecondMNISTRandomLoss.png\")"
      ],
      "execution_count": 73,
      "outputs": [
        {
          "output_type": "display_data",
          "data": {
            "image/png": "[encoded data removed]",
            "text/plain": [
              "<Figure size 432x288 with 1 Axes>"
            ]
          },
          "metadata": {
            "tags": []
          }
        }
      ]
    },
    {
      "cell_type": "markdown",
      "metadata": {
        "id": "iJgAHA6tzVnU"
      },
      "source": [
        "###Second MNIST Random Accuracy Analysis"
      ]
    },
    {
      "cell_type": "code",
      "metadata": {
        "id": "NWoy_ToytgNy",
        "colab": {
          "base_uri": "https://localhost:8080/",
          "height": 301
        },
        "outputId": "12c28c77-e1e9-4fc6-a538-22957830a523"
      },
      "source": [
        "plt.plot(second_mnist_random_history.history[\"accuracy\"], label=\"train_acc\")\n",
        "plt.plot(second_mnist_random_history.history[\"val_accuracy\"], label=\"val_acc\")\n",
        "plt.title(\"Model Training\")\n",
        "plt.xlabel(\"Epoch #\")\n",
        "plt.ylabel(\"Accuracy\")\n",
        "plt.legend()\n",
        "plt.savefig(\"images/SecondMNISTRandomAccuracy.png\")"
      ],
      "execution_count": 74,
      "outputs": [
        {
          "output_type": "display_data",
          "data": {
            "image/png": "[encoded data removed]",
            "text/plain": [
              "<Figure size 432x288 with 1 Axes>"
            ]
          },
          "metadata": {
            "tags": []
          }
        }
      ]
    },
    {
      "cell_type": "code",
      "metadata": {
        "id": "Fglviln6jcEF",
        "colab": {
          "base_uri": "https://localhost:8080/"
        },
        "outputId": "9d089483-bf61-4e1a-cfcb-de80bce31950"
      },
      "source": [
        "second_random_model.evaluate(X_test_mnist, Y_test_mnist, batch_size = 32, verbose = 2)"
      ],
      "execution_count": 75,
      "outputs": [
        {
          "output_type": "stream",
          "text": [
            "313/313 - 3s - loss: 0.0283 - accuracy: 0.9926\n"
          ],
          "name": "stdout"
        },
        {
          "output_type": "execute_result",
          "data": {
            "text/plain": [
              "[0.028332630172371864, 0.9926000237464905]"
            ]
          },
          "metadata": {
            "tags": []
          },
          "execution_count": 75
        }
      ]
    },
    {
      "cell_type": "code",
      "metadata": {
        "id": "t1GABCO-rijJ",
        "colab": {
          "base_uri": "https://localhost:8080/",
          "height": 651
        },
        "outputId": "5b530283-ea12-4ce8-c44b-c3f1667d5d87"
      },
      "source": [
        "Y_pred_second_random = second_random_model.predict_classes(X_test_mnist)\n",
        "second_random_cm = confusion_matrix(Y_test_mnist_max, Y_pred_second_random)\n",
        "second_random_cm = pd.DataFrame(lee_mnist_cm)\n",
        "plt.figure(figsize=(10, 10))\n",
        "sn.set(font_scale=1.0)\n",
        "sn.heatmap(second_random_cm, annot=True, annot_kws={\"size\": 10})\n",
        "plt.show()"
      ],
      "execution_count": 77,
      "outputs": [
        {
          "output_type": "stream",
          "text": [
            "/usr/local/lib/python3.7/dist-packages/tensorflow/python/keras/engine/sequential.py:450: UserWarning: `model.predict_classes()` is deprecated and will be removed after 2021-01-01. Please use instead:* `np.argmax(model.predict(x), axis=-1)`,   if your model does multi-class classification   (e.g. if it uses a `softmax` last-layer activation).* `(model.predict(x) > 0.5).astype(\"int32\")`,   if your model does binary classification   (e.g. if it uses a `sigmoid` last-layer activation).\n",
            "  warnings.warn('`model.predict_classes()` is deprecated and '\n"
          ],
          "name": "stderr"
        },
        {
          "output_type": "display_data",
          "data": {
            "image/png": "[encoded data removed]",
            "text/plain": [
              "<Figure size 720x720 with 2 Axes>"
            ]
          },
          "metadata": {
            "tags": []
          }
        }
      ]
    },
    {
      "cell_type": "markdown",
      "metadata": {
        "id": "VT-dNVGDjmGU"
      },
      "source": [
        "## Part 3"
      ]
    },
    {
      "cell_type": "markdown",
      "metadata": {
        "id": "A5lBXY7Tzbrf"
      },
      "source": [
        "###Importing Part 3 dataset"
      ]
    },
    {
      "cell_type": "code",
      "metadata": {
        "id": "YnEX2kq-jq5h"
      },
      "source": [
        "IMG_HEIGHT = 28\n",
        "IMG_WIDTH = 28\n",
        "def create_dataset_last(img_folder):\n",
        "   \n",
        "    img_data_array=[]\n",
        "    class_name=[]\n",
        "   \n",
        "    for dir1 in os.listdir(img_folder):\n",
        "        for file in os.listdir(os.path.join(img_folder, dir1)):\n",
        "       \n",
        "            image_path= os.path.join(img_folder, dir1,  file)\n",
        "            image= cv2.imread( image_path, cv2.COLOR_BGR2GRAY)\n",
        "            image=cv2.resize(image, (IMG_HEIGHT, IMG_WIDTH),interpolation = cv2.INTER_AREA)\n",
        "            image=np.array(image)\n",
        "            image = image.astype('float32')\n",
        "            image /= 255\n",
        "            img_data_array.append(image)\n",
        "            class_name.append(dir1)\n",
        "    return img_data_array, class_name\n",
        "X_third, Y_third = create_dataset_last(r'/content/drive/MyDrive/mnistTask/mnistTask')"
      ],
      "execution_count": 78,
      "outputs": []
    },
    {
      "cell_type": "code",
      "metadata": {
        "id": "7dgE_Q6FkMMq"
      },
      "source": [
        "X_train_third, X_test_third, Y_train_third, Y_test_third = train_test_split(X_third, Y_third, test_size=0.2)"
      ],
      "execution_count": 79,
      "outputs": []
    },
    {
      "cell_type": "code",
      "metadata": {
        "id": "MLL5PrF4kZDp"
      },
      "source": [
        "encoder_third = OneHotEncoder(sparse=False)\n",
        "Y_train_third = np.array(Y_train_third)\n",
        "Y_test_third = np.array(Y_test_third)\n",
        "Y_train_third = Y_train_third.reshape(-1,1)\n",
        "Y_test_third = Y_test_third.reshape(-1, 1)\n",
        "Y_train_third = encoder_third.fit_transform(Y_train_third)\n",
        "Y_test_third = encoder_third.transform(Y_test_third)"
      ],
      "execution_count": 80,
      "outputs": []
    },
    {
      "cell_type": "code",
      "metadata": {
        "id": "HZrNWfmzka2p",
        "colab": {
          "base_uri": "https://localhost:8080/"
        },
        "outputId": "68c09336-5317-414e-b278-c9f90cc6183d"
      },
      "source": [
        "X_train_third = np.array(X_train_third)\n",
        "X_train_third.shape"
      ],
      "execution_count": 81,
      "outputs": [
        {
          "output_type": "execute_result",
          "data": {
            "text/plain": [
              "(48000, 28, 28)"
            ]
          },
          "metadata": {
            "tags": []
          },
          "execution_count": 81
        }
      ]
    },
    {
      "cell_type": "code",
      "metadata": {
        "id": "ZH-H5TcHkmez",
        "colab": {
          "base_uri": "https://localhost:8080/"
        },
        "outputId": "0046838d-6531-46c6-ed2b-566c07bd722f"
      },
      "source": [
        "X_test_third = np.array(X_test_third)\n",
        "X_test_third.shape"
      ],
      "execution_count": 82,
      "outputs": [
        {
          "output_type": "execute_result",
          "data": {
            "text/plain": [
              "(12000, 28, 28)"
            ]
          },
          "metadata": {
            "tags": []
          },
          "execution_count": 82
        }
      ]
    },
    {
      "cell_type": "code",
      "metadata": {
        "id": "TnpeEciKkpCi",
        "colab": {
          "base_uri": "https://localhost:8080/"
        },
        "outputId": "2a039434-3694-4eb6-a109-329bcb10ea57"
      },
      "source": [
        "Y_train_third.shape"
      ],
      "execution_count": 83,
      "outputs": [
        {
          "output_type": "execute_result",
          "data": {
            "text/plain": [
              "(48000, 10)"
            ]
          },
          "metadata": {
            "tags": []
          },
          "execution_count": 83
        }
      ]
    },
    {
      "cell_type": "code",
      "metadata": {
        "id": "t6EmhPwLksvq",
        "colab": {
          "base_uri": "https://localhost:8080/"
        },
        "outputId": "eb5c542d-f3d3-48c1-8a0a-29c6373665a6"
      },
      "source": [
        "Y_test_third.shape"
      ],
      "execution_count": 84,
      "outputs": [
        {
          "output_type": "execute_result",
          "data": {
            "text/plain": [
              "(12000, 10)"
            ]
          },
          "metadata": {
            "tags": []
          },
          "execution_count": 84
        }
      ]
    },
    {
      "cell_type": "code",
      "metadata": {
        "id": "E_BamqvjC-ME"
      },
      "source": [
        "X_train_new = np.zeros((X_train_third.shape[0], X_train_third.shape[1], X_train_third.shape[2], 3))\n",
        "for i in range(X_train_third.shape[0]):\n",
        "  X_train_new[i, :, :, :] = np.stack((X_train_third[i, :, :],)*3, axis=-1)\n",
        "X_train_third = X_train_new"
      ],
      "execution_count": 85,
      "outputs": []
    },
    {
      "cell_type": "code",
      "metadata": {
        "id": "Gmbn29xtDV_z",
        "colab": {
          "base_uri": "https://localhost:8080/"
        },
        "outputId": "ed86878d-e29b-4c1a-8331-8433077d37df"
      },
      "source": [
        "X_train_third.shape"
      ],
      "execution_count": 86,
      "outputs": [
        {
          "output_type": "execute_result",
          "data": {
            "text/plain": [
              "(48000, 28, 28, 3)"
            ]
          },
          "metadata": {
            "tags": []
          },
          "execution_count": 86
        }
      ]
    },
    {
      "cell_type": "code",
      "metadata": {
        "id": "1YazfZakDXyE"
      },
      "source": [
        "X_test_new = np.zeros((X_test_third.shape[0], X_test_third.shape[1], X_test_third.shape[2], 3))\n",
        "for i in range(X_test_third.shape[0]):\n",
        "  X_test_new[i, :, :, :] = np.stack((X_test_third[i, :, :],)*3, axis=-1)\n",
        "X_test_third = X_test_new"
      ],
      "execution_count": 87,
      "outputs": []
    },
    {
      "cell_type": "code",
      "metadata": {
        "id": "0BZgC1WHEA3c",
        "colab": {
          "base_uri": "https://localhost:8080/"
        },
        "outputId": "5db99765-c262-4ab5-c2b8-6fe5fd838190"
      },
      "source": [
        "X_test_third.shape"
      ],
      "execution_count": 88,
      "outputs": [
        {
          "output_type": "execute_result",
          "data": {
            "text/plain": [
              "(12000, 28, 28, 3)"
            ]
          },
          "metadata": {
            "tags": []
          },
          "execution_count": 88
        }
      ]
    },
    {
      "cell_type": "markdown",
      "metadata": {
        "id": "xFHLzq0OzhS0"
      },
      "source": [
        "###Jumbled Pretrained Model"
      ]
    },
    {
      "cell_type": "code",
      "metadata": {
        "id": "avL_zR9cktkC"
      },
      "source": [
        "jumbled_model = clone_model(model_part_one)\n",
        "jumbled_model.set_weights(model_part_one.get_weights())"
      ],
      "execution_count": 89,
      "outputs": []
    },
    {
      "cell_type": "code",
      "metadata": {
        "id": "SxO9nxxqlJql",
        "colab": {
          "base_uri": "https://localhost:8080/"
        },
        "outputId": "2b1e5625-d015-4a8b-c512-43a61c9076d6"
      },
      "source": [
        "jumbled_model.summary()"
      ],
      "execution_count": 90,
      "outputs": [
        {
          "output_type": "stream",
          "text": [
            "Model: \"sequential\"\n",
            "_________________________________________________________________\n",
            "Layer (type)                 Output Shape              Param #   \n",
            "=================================================================\n",
            "conv2d (Conv2D)              (None, 26, 26, 32)        896       \n",
            "_________________________________________________________________\n",
            "max_pooling2d (MaxPooling2D) (None, 13, 13, 32)        0         \n",
            "_________________________________________________________________\n",
            "conv2d_1 (Conv2D)            (None, 9, 9, 64)          51264     \n",
            "_________________________________________________________________\n",
            "max_pooling2d_1 (MaxPooling2 (None, 4, 4, 64)          0         \n",
            "_________________________________________________________________\n",
            "conv2d_2 (Conv2D)            (None, 2, 2, 128)         73856     \n",
            "_________________________________________________________________\n",
            "max_pooling2d_2 (MaxPooling2 (None, 1, 1, 128)         0         \n",
            "_________________________________________________________________\n",
            "flatten (Flatten)            (None, 128)               0         \n",
            "_________________________________________________________________\n",
            "dense (Dense)                (None, 256)               33024     \n",
            "_________________________________________________________________\n",
            "batch_normalization (BatchNo (None, 256)               1024      \n",
            "_________________________________________________________________\n",
            "dropout (Dropout)            (None, 256)               0         \n",
            "_________________________________________________________________\n",
            "dense_1 (Dense)              (None, 62)                15934     \n",
            "=================================================================\n",
            "Total params: 175,998\n",
            "Trainable params: 175,486\n",
            "Non-trainable params: 512\n",
            "_________________________________________________________________\n"
          ],
          "name": "stdout"
        }
      ]
    },
    {
      "cell_type": "code",
      "metadata": {
        "id": "ZIKtadOTk_pK"
      },
      "source": [
        "jumbled_model_third = Sequential(jumbled_model.layers[:-1])\n",
        "jumbled_model_third.add(Dense(10, activation=\"softmax\"))"
      ],
      "execution_count": 91,
      "outputs": []
    },
    {
      "cell_type": "code",
      "metadata": {
        "id": "6JTgQoJKlTlM",
        "colab": {
          "base_uri": "https://localhost:8080/"
        },
        "outputId": "508fe8ba-eb1b-40fd-c4bb-18ec8550dad2"
      },
      "source": [
        "jumbled_model_third.summary()"
      ],
      "execution_count": 92,
      "outputs": [
        {
          "output_type": "stream",
          "text": [
            "Model: \"sequential_4\"\n",
            "_________________________________________________________________\n",
            "Layer (type)                 Output Shape              Param #   \n",
            "=================================================================\n",
            "conv2d (Conv2D)              (None, 26, 26, 32)        896       \n",
            "_________________________________________________________________\n",
            "max_pooling2d (MaxPooling2D) (None, 13, 13, 32)        0         \n",
            "_________________________________________________________________\n",
            "conv2d_1 (Conv2D)            (None, 9, 9, 64)          51264     \n",
            "_________________________________________________________________\n",
            "max_pooling2d_1 (MaxPooling2 (None, 4, 4, 64)          0         \n",
            "_________________________________________________________________\n",
            "conv2d_2 (Conv2D)            (None, 2, 2, 128)         73856     \n",
            "_________________________________________________________________\n",
            "max_pooling2d_2 (MaxPooling2 (None, 1, 1, 128)         0         \n",
            "_________________________________________________________________\n",
            "flatten (Flatten)            (None, 128)               0         \n",
            "_________________________________________________________________\n",
            "dense (Dense)                (None, 256)               33024     \n",
            "_________________________________________________________________\n",
            "batch_normalization (BatchNo (None, 256)               1024      \n",
            "_________________________________________________________________\n",
            "dropout (Dropout)            (None, 256)               0         \n",
            "_________________________________________________________________\n",
            "dense_7 (Dense)              (None, 10)                2570      \n",
            "=================================================================\n",
            "Total params: 162,634\n",
            "Trainable params: 162,122\n",
            "Non-trainable params: 512\n",
            "_________________________________________________________________\n"
          ],
          "name": "stdout"
        }
      ]
    },
    {
      "cell_type": "code",
      "metadata": {
        "id": "IT9ljz-gsiZ7"
      },
      "source": [
        "jumbled_model_third_checkpoint = ModelCheckpoint(\"checkpoints/jumbled_model_third_checkpoint\", monitor=\"val_accuracy\", verbose = 2, save_best_only = False, save_weights_only = False)"
      ],
      "execution_count": 93,
      "outputs": []
    },
    {
      "cell_type": "code",
      "metadata": {
        "id": "stY-Iw7jCXe5"
      },
      "source": [
        "jumbled_model_third.compile(optimizer=\"adam\", loss=\"categorical_crossentropy\", metrics=[\"accuracy\"])"
      ],
      "execution_count": 94,
      "outputs": []
    },
    {
      "cell_type": "code",
      "metadata": {
        "id": "n2VZquDylWKx",
        "colab": {
          "base_uri": "https://localhost:8080/"
        },
        "outputId": "31f55ae3-7b99-4bef-ed11-30f5fd7bf4ec"
      },
      "source": [
        "jumbled_third_history = jumbled_model_third.fit(X_train_third, Y_train_third, epochs=50, validation_data=(X_test_third, Y_test_third), verbose=2, batch_size = 32, callbacks=[early, jumbled_model_third_checkpoint])"
      ],
      "execution_count": 95,
      "outputs": [
        {
          "output_type": "stream",
          "text": [
            "Epoch 1/50\n",
            "1500/1500 - 52s - loss: 2.4184 - accuracy: 0.1078 - val_loss: 2.2865 - val_accuracy: 0.1123\n",
            "\n",
            "Epoch 00001: saving model to checkpoints/jumbled_model_third_checkpoint\n",
            "INFO:tensorflow:Assets written to: checkpoints/jumbled_model_third_checkpoint/assets\n",
            "Epoch 2/50\n",
            "1500/1500 - 51s - loss: 2.2861 - accuracy: 0.1163 - val_loss: 2.2765 - val_accuracy: 0.1172\n",
            "\n",
            "Epoch 00002: saving model to checkpoints/jumbled_model_third_checkpoint\n",
            "INFO:tensorflow:Assets written to: checkpoints/jumbled_model_third_checkpoint/assets\n",
            "Epoch 3/50\n",
            "1500/1500 - 51s - loss: 2.2603 - accuracy: 0.1218 - val_loss: 2.2731 - val_accuracy: 0.1112\n",
            "\n",
            "Epoch 00003: saving model to checkpoints/jumbled_model_third_checkpoint\n",
            "INFO:tensorflow:Assets written to: checkpoints/jumbled_model_third_checkpoint/assets\n",
            "Epoch 4/50\n",
            "1500/1500 - 51s - loss: 2.2461 - accuracy: 0.1286 - val_loss: 2.2740 - val_accuracy: 0.1119\n",
            "\n",
            "Epoch 00004: saving model to checkpoints/jumbled_model_third_checkpoint\n",
            "INFO:tensorflow:Assets written to: checkpoints/jumbled_model_third_checkpoint/assets\n",
            "Epoch 5/50\n",
            "1500/1500 - 51s - loss: 2.2299 - accuracy: 0.1367 - val_loss: 2.2660 - val_accuracy: 0.1142\n",
            "\n",
            "Epoch 00005: saving model to checkpoints/jumbled_model_third_checkpoint\n",
            "INFO:tensorflow:Assets written to: checkpoints/jumbled_model_third_checkpoint/assets\n",
            "Epoch 6/50\n",
            "1500/1500 - 51s - loss: 2.2073 - accuracy: 0.1518 - val_loss: 2.2766 - val_accuracy: 0.1079\n",
            "\n",
            "Epoch 00006: saving model to checkpoints/jumbled_model_third_checkpoint\n",
            "INFO:tensorflow:Assets written to: checkpoints/jumbled_model_third_checkpoint/assets\n",
            "Epoch 7/50\n",
            "1500/1500 - 51s - loss: 2.1777 - accuracy: 0.1703 - val_loss: 2.2959 - val_accuracy: 0.1071\n",
            "Restoring model weights from the end of the best epoch.\n",
            "\n",
            "Epoch 00007: saving model to checkpoints/jumbled_model_third_checkpoint\n",
            "INFO:tensorflow:Assets written to: checkpoints/jumbled_model_third_checkpoint/assets\n",
            "Epoch 00007: early stopping\n"
          ],
          "name": "stdout"
        }
      ]
    },
    {
      "cell_type": "code",
      "metadata": {
        "id": "OCABAjycvIHz",
        "colab": {
          "base_uri": "https://localhost:8080/"
        },
        "outputId": "cfa9c0f7-496e-4e34-9fb2-478da56ba7dc"
      },
      "source": [
        "jumbled_model_third.save(\"jumbled_model_third.hd5\")"
      ],
      "execution_count": 96,
      "outputs": [
        {
          "output_type": "stream",
          "text": [
            "INFO:tensorflow:Assets written to: jumbled_model_third.hd5/assets\n"
          ],
          "name": "stdout"
        }
      ]
    },
    {
      "cell_type": "markdown",
      "metadata": {
        "id": "ZEN-2r0_zpk7"
      },
      "source": [
        "###Jumbled Pretrained Loss Analysis"
      ]
    },
    {
      "cell_type": "code",
      "metadata": {
        "id": "LqLQMbocvIPu",
        "colab": {
          "base_uri": "https://localhost:8080/",
          "height": 301
        },
        "outputId": "055eb2af-a86c-4a11-cd6f-6b4d2d70115b"
      },
      "source": [
        "plt.plot(jumbled_third_history.history[\"loss\"], label=\"train_loss\")\n",
        "plt.plot(jumbled_third_history.history[\"val_loss\"], label=\"val_loss\")\n",
        "plt.title(\"Model Training\")\n",
        "plt.xlabel(\"Epoch #\")\n",
        "plt.ylabel(\"Loss\")\n",
        "plt.legend()\n",
        "plt.savefig(\"images/JumbledThirdLoss.png\")"
      ],
      "execution_count": 97,
      "outputs": [
        {
          "output_type": "display_data",
          "data": {
            "image/png": "[encoded data removed]",
            "text/plain": [
              "<Figure size 432x288 with 1 Axes>"
            ]
          },
          "metadata": {
            "tags": []
          }
        }
      ]
    },
    {
      "cell_type": "markdown",
      "metadata": {
        "id": "GBcV6saEzsqk"
      },
      "source": [
        "###Jumbled Pretrained Accuracy Analysis"
      ]
    },
    {
      "cell_type": "code",
      "metadata": {
        "id": "1xvbjdhJvIUV",
        "colab": {
          "base_uri": "https://localhost:8080/",
          "height": 301
        },
        "outputId": "216beba0-1af8-491e-801b-a25ccb5b5207"
      },
      "source": [
        "plt.plot(jumbled_third_history.history[\"accuracy\"], label=\"train_acc\")\n",
        "plt.plot(jumbled_third_history.history[\"val_accuracy\"], label=\"val_acc\")\n",
        "plt.title(\"Model Training\")\n",
        "plt.xlabel(\"Epoch #\")\n",
        "plt.ylabel(\"Accuracy\")\n",
        "plt.legend()\n",
        "plt.savefig(\"images/JumbledThirdAccuracy.png\")"
      ],
      "execution_count": 98,
      "outputs": [
        {
          "output_type": "display_data",
          "data": {
            "image/png": "[encoded data removed]",
            "text/plain": [
              "<Figure size 432x288 with 1 Axes>"
            ]
          },
          "metadata": {
            "tags": []
          }
        }
      ]
    },
    {
      "cell_type": "code",
      "metadata": {
        "id": "5KJBdtBzNaXx",
        "colab": {
          "base_uri": "https://localhost:8080/"
        },
        "outputId": "ef754d5e-86d7-473d-8680-34c165460c10"
      },
      "source": [
        "jumbled_model_third.evaluate(X_test_mnist, Y_test_mnist, batch_size=32, verbose = 3)"
      ],
      "execution_count": 99,
      "outputs": [
        {
          "output_type": "execute_result",
          "data": {
            "text/plain": [
              "[666.9180297851562, 0.008299999870359898]"
            ]
          },
          "metadata": {
            "tags": []
          },
          "execution_count": 99
        }
      ]
    },
    {
      "cell_type": "code",
      "metadata": {
        "id": "CHRP-F0Nr0Tb",
        "colab": {
          "base_uri": "https://localhost:8080/",
          "height": 652
        },
        "outputId": "0ca81d33-cdaa-495f-c61f-3c029e35dbee"
      },
      "source": [
        "Y_pred_jumbled_third = jumbled_model_third.predict_classes(X_test_mnist)\n",
        "jumbled_third_cm = confusion_matrix(Y_test_mnist_max, Y_pred_jumbled_third)\n",
        "jumbled_third_cm = pd.DataFrame(jumbled_third_cm)\n",
        "plt.figure(figsize=(10, 10))\n",
        "sn.set(font_scale=1.0)\n",
        "sn.heatmap(jumbled_third_cm, annot=True, annot_kws={\"size\": 10})\n",
        "plt.show()"
      ],
      "execution_count": 102,
      "outputs": [
        {
          "output_type": "stream",
          "text": [
            "/usr/local/lib/python3.7/dist-packages/tensorflow/python/keras/engine/sequential.py:450: UserWarning: `model.predict_classes()` is deprecated and will be removed after 2021-01-01. Please use instead:* `np.argmax(model.predict(x), axis=-1)`,   if your model does multi-class classification   (e.g. if it uses a `softmax` last-layer activation).* `(model.predict(x) > 0.5).astype(\"int32\")`,   if your model does binary classification   (e.g. if it uses a `sigmoid` last-layer activation).\n",
            "  warnings.warn('`model.predict_classes()` is deprecated and '\n"
          ],
          "name": "stderr"
        },
        {
          "output_type": "display_data",
          "data": {
            "image/png": "[encoded data removed]",
            "text/plain": [
              "<Figure size 720x720 with 2 Axes>"
            ]
          },
          "metadata": {
            "tags": []
          }
        }
      ]
    },
    {
      "cell_type": "markdown",
      "metadata": {
        "id": "BC9RPUKmNq3q"
      },
      "source": [
        "### Jumbled Random Model "
      ]
    },
    {
      "cell_type": "code",
      "metadata": {
        "id": "rftT3gDdNs8Y",
        "colab": {
          "base_uri": "https://localhost:8080/"
        },
        "outputId": "e1738506-6978-4c91-e851-994f9543d0bb"
      },
      "source": [
        "jumbled_model_third_random = Sequential()\n",
        "jumbled_model_third_random.add(Conv2D(32, kernel_size = (3, 3), activation=\"relu\", input_shape=(28, 28, 3)))\n",
        "jumbled_model_third_random.add(MaxPooling2D())\n",
        "jumbled_model_third_random.add(Conv2D(64, activation=\"relu\", kernel_size=(5, 5)))\n",
        "jumbled_model_third_random.add(MaxPooling2D())\n",
        "jumbled_model_third_random.add(Conv2D(128, activation=\"relu\", kernel_size=(3, 3)))\n",
        "jumbled_model_third_random.add(MaxPooling2D())\n",
        "jumbled_model_third_random.add(Flatten())\n",
        "jumbled_model_third_random.add(Dense(256, activation=\"relu\"))\n",
        "jumbled_model_third_random.add(BatchNormalization())\n",
        "jumbled_model_third_random.add(Dropout(0.2))\n",
        "jumbled_model_third_random.add(Dense(10, activation=\"softmax\"))\n",
        "jumbled_model_third_random.compile(optimizer = 'adam', loss = 'categorical_crossentropy', metrics = ['accuracy'])\n",
        "jumbled_model_third_random.summary()"
      ],
      "execution_count": 103,
      "outputs": [
        {
          "output_type": "stream",
          "text": [
            "Model: \"sequential_5\"\n",
            "_________________________________________________________________\n",
            "Layer (type)                 Output Shape              Param #   \n",
            "=================================================================\n",
            "conv2d_9 (Conv2D)            (None, 26, 26, 32)        896       \n",
            "_________________________________________________________________\n",
            "max_pooling2d_9 (MaxPooling2 (None, 13, 13, 32)        0         \n",
            "_________________________________________________________________\n",
            "conv2d_10 (Conv2D)           (None, 9, 9, 64)          51264     \n",
            "_________________________________________________________________\n",
            "max_pooling2d_10 (MaxPooling (None, 4, 4, 64)          0         \n",
            "_________________________________________________________________\n",
            "conv2d_11 (Conv2D)           (None, 2, 2, 128)         73856     \n",
            "_________________________________________________________________\n",
            "max_pooling2d_11 (MaxPooling (None, 1, 1, 128)         0         \n",
            "_________________________________________________________________\n",
            "flatten_3 (Flatten)          (None, 128)               0         \n",
            "_________________________________________________________________\n",
            "dense_8 (Dense)              (None, 256)               33024     \n",
            "_________________________________________________________________\n",
            "batch_normalization_3 (Batch (None, 256)               1024      \n",
            "_________________________________________________________________\n",
            "dropout_3 (Dropout)          (None, 256)               0         \n",
            "_________________________________________________________________\n",
            "dense_9 (Dense)              (None, 10)                2570      \n",
            "=================================================================\n",
            "Total params: 162,634\n",
            "Trainable params: 162,122\n",
            "Non-trainable params: 512\n",
            "_________________________________________________________________\n"
          ],
          "name": "stdout"
        }
      ]
    },
    {
      "cell_type": "code",
      "metadata": {
        "id": "8Y3gH_kzONrw"
      },
      "source": [
        "jumbled_model_third_random.compile(optimizer=\"adam\", loss=\"categorical_crossentropy\", metrics=[\"accuracy\"])"
      ],
      "execution_count": 104,
      "outputs": []
    },
    {
      "cell_type": "code",
      "metadata": {
        "id": "9og9Hb8xssdt"
      },
      "source": [
        "jumbled_model_third_random_checkpoint = ModelCheckpoint(\"checkpoints/jumbled_model_third_random_checkpoint\", monitor=\"val_accuracy\", verbose = 2, save_best_only = False, save_weights_only = False)"
      ],
      "execution_count": 105,
      "outputs": []
    },
    {
      "cell_type": "code",
      "metadata": {
        "id": "pobhu-1oPL_f",
        "colab": {
          "base_uri": "https://localhost:8080/"
        },
        "outputId": "a29c0a38-d44f-41d9-b407-6945fcd91414"
      },
      "source": [
        "jumbled_model_random_history = jumbled_model_third_random.fit(X_train_third, Y_train_third, epochs=50, validation_data=(X_test_third, Y_test_third), verbose=2, batch_size = 32, callbacks=[early, jumbled_model_third_random_checkpoint])"
      ],
      "execution_count": 106,
      "outputs": [
        {
          "output_type": "stream",
          "text": [
            "Epoch 1/50\n",
            "1500/1500 - 53s - loss: 2.3002 - accuracy: 0.1108 - val_loss: 2.3099 - val_accuracy: 0.1081\n",
            "\n",
            "Epoch 00001: saving model to checkpoints/jumbled_model_third_random_checkpoint\n",
            "INFO:tensorflow:Assets written to: checkpoints/jumbled_model_third_random_checkpoint/assets\n",
            "Epoch 2/50\n",
            "1500/1500 - 50s - loss: 2.2782 - accuracy: 0.1122 - val_loss: 2.4012 - val_accuracy: 0.1086\n",
            "\n",
            "Epoch 00002: saving model to checkpoints/jumbled_model_third_random_checkpoint\n",
            "INFO:tensorflow:Assets written to: checkpoints/jumbled_model_third_random_checkpoint/assets\n",
            "Epoch 3/50\n",
            "1500/1500 - 50s - loss: 2.2722 - accuracy: 0.1164 - val_loss: 2.3875 - val_accuracy: 0.1057\n",
            "\n",
            "Epoch 00003: saving model to checkpoints/jumbled_model_third_random_checkpoint\n",
            "INFO:tensorflow:Assets written to: checkpoints/jumbled_model_third_random_checkpoint/assets\n",
            "Epoch 4/50\n",
            "1500/1500 - 50s - loss: 2.2653 - accuracy: 0.1220 - val_loss: 2.3357 - val_accuracy: 0.1113\n",
            "\n",
            "Epoch 00004: saving model to checkpoints/jumbled_model_third_random_checkpoint\n",
            "INFO:tensorflow:Assets written to: checkpoints/jumbled_model_third_random_checkpoint/assets\n",
            "Epoch 5/50\n",
            "1500/1500 - 50s - loss: 2.2570 - accuracy: 0.1246 - val_loss: 2.3105 - val_accuracy: 0.1115\n",
            "\n",
            "Epoch 00005: saving model to checkpoints/jumbled_model_third_random_checkpoint\n",
            "INFO:tensorflow:Assets written to: checkpoints/jumbled_model_third_random_checkpoint/assets\n",
            "Epoch 6/50\n",
            "1500/1500 - 50s - loss: 2.2485 - accuracy: 0.1312 - val_loss: 2.3303 - val_accuracy: 0.1111\n",
            "\n",
            "Epoch 00006: saving model to checkpoints/jumbled_model_third_random_checkpoint\n",
            "INFO:tensorflow:Assets written to: checkpoints/jumbled_model_third_random_checkpoint/assets\n",
            "Epoch 7/50\n",
            "1500/1500 - 51s - loss: 2.2421 - accuracy: 0.1320 - val_loss: 2.3681 - val_accuracy: 0.1089\n",
            "\n",
            "Epoch 00007: saving model to checkpoints/jumbled_model_third_random_checkpoint\n",
            "INFO:tensorflow:Assets written to: checkpoints/jumbled_model_third_random_checkpoint/assets\n",
            "Epoch 8/50\n",
            "1500/1500 - 50s - loss: 2.2366 - accuracy: 0.1383 - val_loss: 2.3278 - val_accuracy: 0.1090\n",
            "\n",
            "Epoch 00008: saving model to checkpoints/jumbled_model_third_random_checkpoint\n",
            "INFO:tensorflow:Assets written to: checkpoints/jumbled_model_third_random_checkpoint/assets\n",
            "Epoch 9/50\n",
            "1500/1500 - 50s - loss: 2.2266 - accuracy: 0.1471 - val_loss: 2.4194 - val_accuracy: 0.1095\n",
            "\n",
            "Epoch 00009: saving model to checkpoints/jumbled_model_third_random_checkpoint\n",
            "INFO:tensorflow:Assets written to: checkpoints/jumbled_model_third_random_checkpoint/assets\n",
            "Epoch 10/50\n",
            "1500/1500 - 51s - loss: 2.2126 - accuracy: 0.1584 - val_loss: 2.3032 - val_accuracy: 0.1084\n",
            "Restoring model weights from the end of the best epoch.\n",
            "\n",
            "Epoch 00010: saving model to checkpoints/jumbled_model_third_random_checkpoint\n",
            "INFO:tensorflow:Assets written to: checkpoints/jumbled_model_third_random_checkpoint/assets\n",
            "Epoch 00010: early stopping\n"
          ],
          "name": "stdout"
        }
      ]
    },
    {
      "cell_type": "code",
      "metadata": {
        "id": "x-eUfhfhwX9V",
        "colab": {
          "base_uri": "https://localhost:8080/"
        },
        "outputId": "34b62df7-bc4b-4f4f-ffc1-538e223ead7a"
      },
      "source": [
        "jumbled_model_third_random.save(\"jumbled_model_third_random.hd5\")"
      ],
      "execution_count": 107,
      "outputs": [
        {
          "output_type": "stream",
          "text": [
            "INFO:tensorflow:Assets written to: jumbled_model_third_random.hd5/assets\n"
          ],
          "name": "stdout"
        }
      ]
    },
    {
      "cell_type": "markdown",
      "metadata": {
        "id": "6KXdrzKAz0aV"
      },
      "source": [
        "###Jumbled Random Loss Analysis"
      ]
    },
    {
      "cell_type": "code",
      "metadata": {
        "id": "S0eqdnyqPauI",
        "colab": {
          "base_uri": "https://localhost:8080/",
          "height": 301
        },
        "outputId": "b754c8a3-67e3-4678-87c1-eea4e8554b61"
      },
      "source": [
        "plt.plot(jumbled_model_random_history.history[\"loss\"], label=\"train_loss\")\n",
        "plt.plot(jumbled_model_random_history.history[\"val_loss\"], label=\"val_loss\")\n",
        "plt.title(\"Model Training\")\n",
        "plt.xlabel(\"Epoch #\")\n",
        "plt.ylabel(\"Loss\")\n",
        "plt.legend()\n",
        "plt.savefig(\"images/JumbledThirdRandomLoss.png\")"
      ],
      "execution_count": 108,
      "outputs": [
        {
          "output_type": "display_data",
          "data": {
            "image/png": "[encoded data removed]",
            "text/plain": [
              "<Figure size 432x288 with 1 Axes>"
            ]
          },
          "metadata": {
            "tags": []
          }
        }
      ]
    },
    {
      "cell_type": "markdown",
      "metadata": {
        "id": "ocwJkDnUz3rx"
      },
      "source": [
        "###Jumbled Random Accuracy Analysis"
      ]
    },
    {
      "cell_type": "code",
      "metadata": {
        "id": "MxOc4YIRwNKq",
        "colab": {
          "base_uri": "https://localhost:8080/",
          "height": 301
        },
        "outputId": "a2c99fb7-0bfa-448a-bf86-c89ac450c90a"
      },
      "source": [
        "plt.plot(jumbled_model_random_history.history[\"accuracy\"], label=\"train_acc\")\n",
        "plt.plot(jumbled_model_random_history.history[\"val_accuracy\"], label=\"val_acc\")\n",
        "plt.title(\"Model Training\")\n",
        "plt.xlabel(\"Epoch #\")\n",
        "plt.ylabel(\"Accuracy\")\n",
        "plt.legend()\n",
        "plt.savefig(\"images/JumbledThirdRandomAccuracy.png\")"
      ],
      "execution_count": 109,
      "outputs": [
        {
          "output_type": "display_data",
          "data": {
            "image/png": "[encoded data removed]",
            "text/plain": [
              "<Figure size 432x288 with 1 Axes>"
            ]
          },
          "metadata": {
            "tags": []
          }
        }
      ]
    },
    {
      "cell_type": "code",
      "metadata": {
        "id": "eKaCB-VJwVj0",
        "colab": {
          "base_uri": "https://localhost:8080/"
        },
        "outputId": "c39c4a60-4b96-4e8a-8531-c1849f5c64a2"
      },
      "source": [
        "jumbled_model_third_random.evaluate(X_test_mnist, Y_test_mnist, batch_size=32, verbose = 3)"
      ],
      "execution_count": 110,
      "outputs": [
        {
          "output_type": "execute_result",
          "data": {
            "text/plain": [
              "[370.3474426269531, 0.10689999908208847]"
            ]
          },
          "metadata": {
            "tags": []
          },
          "execution_count": 110
        }
      ]
    },
    {
      "cell_type": "code",
      "metadata": {
        "id": "gg-wXECzsE2P",
        "colab": {
          "base_uri": "https://localhost:8080/",
          "height": 651
        },
        "outputId": "4f530aa1-9666-4bd8-fa37-c1e0a6073765"
      },
      "source": [
        "Y_pred_jumbled_third_random = jumbled_model_third_random.predict_classes(X_test_mnist)\n",
        "jumbled_third_random_cm = confusion_matrix(Y_test_mnist_max, Y_pred_jumbled_third_random)\n",
        "jumbled_third_random_cm = pd.DataFrame(jumbled_third_random_cm)\n",
        "plt.figure(figsize=(10, 10))\n",
        "sn.set(font_scale=1.0)\n",
        "sn.heatmap(jumbled_third_random_cm, annot=True, annot_kws={\"size\": 10})\n",
        "plt.show()"
      ],
      "execution_count": 111,
      "outputs": [
        {
          "output_type": "stream",
          "text": [
            "/usr/local/lib/python3.7/dist-packages/tensorflow/python/keras/engine/sequential.py:450: UserWarning: `model.predict_classes()` is deprecated and will be removed after 2021-01-01. Please use instead:* `np.argmax(model.predict(x), axis=-1)`,   if your model does multi-class classification   (e.g. if it uses a `softmax` last-layer activation).* `(model.predict(x) > 0.5).astype(\"int32\")`,   if your model does binary classification   (e.g. if it uses a `sigmoid` last-layer activation).\n",
            "  warnings.warn('`model.predict_classes()` is deprecated and '\n"
          ],
          "name": "stderr"
        },
        {
          "output_type": "display_data",
          "data": {
            "image/png": "[encoded data removed]",
            "text/plain": [
              "<Figure size 720x720 with 2 Axes>"
            ]
          },
          "metadata": {
            "tags": []
          }
        }
      ]
    }
  ]
}